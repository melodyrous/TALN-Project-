{
 "cells": [
  {
   "cell_type": "code",
   "execution_count": 127,
   "metadata": {},
   "outputs": [
    {
     "name": "stdout",
     "output_type": "stream",
     "text": [
      "[nltk_data] Downloading package punkt to\n",
      "[nltk_data]     C:\\Users\\Dell\\AppData\\Roaming\\nltk_data...\n",
      "[nltk_data]   Package punkt is already up-to-date!\n",
      "[nltk_data] Downloading package stopwords to\n",
      "[nltk_data]     C:\\Users\\Dell\\AppData\\Roaming\\nltk_data...\n",
      "[nltk_data]   Package stopwords is already up-to-date!\n",
      "[nltk_data] Downloading package wordnet to\n",
      "[nltk_data]     C:\\Users\\Dell\\AppData\\Roaming\\nltk_data...\n",
      "[nltk_data]   Package wordnet is already up-to-date!\n"
     ]
    }
   ],
   "source": [
    "import numpy as np\n",
    "import pandas as pd\n",
    "import string \n",
    "import nltk\n",
    "nltk.download('punkt')\n",
    "nltk.download('stopwords')\n",
    "nltk.download('wordnet')\n",
    "\n",
    "#systeme\n",
    "import sys\n",
    "sys.setrecursionlimit(200000)\n",
    "\n",
    "#nltk\n",
    "from nltk.stem import WordNetLemmatizer\n",
    "from nltk.sentiment.vader import SentimentIntensityAnalyzer\n",
    "from nltk.sentiment.util import *\n",
    "from nltk import word_tokenize\n",
    "from nltk.corpus import stopwords\n",
    "from nltk import ngrams\n",
    "\n",
    "#import warnings; warnings.simplefilter('ignore')\n",
    "\n",
    "import re\n",
    "import string\n",
    "\n",
    "#import spacy\n",
    "#from spacy_lefff import lefffLemmatizer\n",
    "\n",
    "from french_lefff_lemmatizer.french_lefff_lemmatizer import FrenchLefffLemmatizer\n",
    "\n",
    "import fr_core_news_sm\n",
    "nlp = fr_core_news_sm.load()\n",
    "\n",
    "#Visualisation\n",
    "from wordcloud import WordCloud, STOPWORDS\n",
    "import matplotlib.pyplot as plt\n",
    "#Parametres generaux d'affichage des graphiques\n",
    "plt.rcParams['figure.figsize'] = (25, 8)\n",
    "plt.rcParams['figure.titlesize'] = 20\n",
    "plt.rcParams['font.size'] = 15\n",
    "\n",
    "\n",
    "#%load_ext Cython\n",
    "\n",
    "#wolf\n",
    "#from frenetic.packet import *\n",
    "#fwn = FreNetic(\"C:/Users/Utilisateur/Desktop/simplon/projetA1/wolf.xml\") "
   ]
  },
  {
   "cell_type": "code",
   "execution_count": 126,
   "metadata": {},
   "outputs": [
    {
     "data": {
      "text/html": [
       "\n",
       "<style>\n",
       ".output_png {\n",
       "    display: table-cell;\n",
       "    text-align: center;\n",
       "    vertical-align: middle;\n",
       "}\n",
       "</style>\n"
      ],
      "text/plain": [
       "<IPython.core.display.HTML object>"
      ]
     },
     "execution_count": 126,
     "metadata": {},
     "output_type": "execute_result"
    }
   ],
   "source": [
    "# from IPython.core.display import HTML\n",
    "# HTML(\"\"\"\n",
    "# <style>\n",
    "# .output_png {\n",
    "#     display: table-cell;\n",
    "#     text-align: center;\n",
    "#     vertical-align: middle;\n",
    "# }\n",
    "# </style>\n",
    "# \"\"\")"
   ]
  },
  {
   "cell_type": "markdown",
   "metadata": {},
   "source": [
    "<h1 align='center'> Traitement du langage naturel </h1>\n",
    "<h2 align='center'> Analyse lexicale de sentiment de tweets</h2>\n",
    "<br>\n",
    "<br>\n",
    "<hr>\n",
    "<h2 align='center'><strong>1ere Partie: </strong>Pre-processing</h2>"
   ]
  },
  {
   "cell_type": "markdown",
   "metadata": {},
   "source": [
    "### 1/ Import du csv"
   ]
  },
  {
   "cell_type": "code",
   "execution_count": 2,
   "metadata": {},
   "outputs": [],
   "source": [
    "get_ipython().config.get('IPKernelApp', {})['parent_appname'] = \"\""
   ]
  },
  {
   "cell_type": "code",
   "execution_count": 3,
   "metadata": {},
   "outputs": [],
   "source": [
    "tweets = pd.read_csv(\"./french-tweets-politique/tweets_unique.csv\")"
   ]
  },
  {
   "cell_type": "code",
   "execution_count": 4,
   "metadata": {},
   "outputs": [
    {
     "data": {
      "text/html": [
       "<div>\n",
       "<style scoped>\n",
       "    .dataframe tbody tr th:only-of-type {\n",
       "        vertical-align: middle;\n",
       "    }\n",
       "\n",
       "    .dataframe tbody tr th {\n",
       "        vertical-align: top;\n",
       "    }\n",
       "\n",
       "    .dataframe thead th {\n",
       "        text-align: right;\n",
       "    }\n",
       "</style>\n",
       "<table border=\"1\" class=\"dataframe\">\n",
       "  <thead>\n",
       "    <tr style=\"text-align: right;\">\n",
       "      <th></th>\n",
       "      <th>Unnamed: 0</th>\n",
       "      <th>date</th>\n",
       "      <th>text</th>\n",
       "      <th>hashtags</th>\n",
       "    </tr>\n",
       "  </thead>\n",
       "  <tbody>\n",
       "    <tr>\n",
       "      <th>0</th>\n",
       "      <td>0</td>\n",
       "      <td>Sun Mar 18 13:45:13 +0000 2018</td>\n",
       "      <td>Au lieu d'expulser des diplomates Russes il eu...</td>\n",
       "      <td>NaN</td>\n",
       "    </tr>\n",
       "    <tr>\n",
       "      <th>1</th>\n",
       "      <td>1</td>\n",
       "      <td>Sun Mar 18 15:47:19 +0000 2018</td>\n",
       "      <td>Selon l’ex Ambassadeur anglais en Ouzbékistan,...</td>\n",
       "      <td>NaN</td>\n",
       "    </tr>\n",
       "    <tr>\n",
       "      <th>2</th>\n",
       "      <td>2</td>\n",
       "      <td>Sun Mar 18 11:48:32 +0000 2018</td>\n",
       "      <td>@PhilipJ37 @EugenieBastie Tellement vrai.\\r\\nS...</td>\n",
       "      <td>NaN</td>\n",
       "    </tr>\n",
       "    <tr>\n",
       "      <th>3</th>\n",
       "      <td>3</td>\n",
       "      <td>Sun Mar 18 15:41:24 +0000 2018</td>\n",
       "      <td>BOMBE: Le capitaine Barril, ancien commandant ...</td>\n",
       "      <td>NaN</td>\n",
       "    </tr>\n",
       "    <tr>\n",
       "      <th>4</th>\n",
       "      <td>4</td>\n",
       "      <td>Sun Mar 18 14:32:39 +0000 2018</td>\n",
       "      <td>Dans la même semaine #Macron nomme le très amb...</td>\n",
       "      <td>['Macron', 'Bellatar', 'ConseilDesVilles']</td>\n",
       "    </tr>\n",
       "  </tbody>\n",
       "</table>\n",
       "</div>"
      ],
      "text/plain": [
       "  Unnamed: 0                            date  \\\n",
       "0          0  Sun Mar 18 13:45:13 +0000 2018   \n",
       "1          1  Sun Mar 18 15:47:19 +0000 2018   \n",
       "2          2  Sun Mar 18 11:48:32 +0000 2018   \n",
       "3          3  Sun Mar 18 15:41:24 +0000 2018   \n",
       "4          4  Sun Mar 18 14:32:39 +0000 2018   \n",
       "\n",
       "                                                text  \\\n",
       "0  Au lieu d'expulser des diplomates Russes il eu...   \n",
       "1  Selon l’ex Ambassadeur anglais en Ouzbékistan,...   \n",
       "2  @PhilipJ37 @EugenieBastie Tellement vrai.\\r\\nS...   \n",
       "3  BOMBE: Le capitaine Barril, ancien commandant ...   \n",
       "4  Dans la même semaine #Macron nomme le très amb...   \n",
       "\n",
       "                                     hashtags  \n",
       "0                                         NaN  \n",
       "1                                         NaN  \n",
       "2                                         NaN  \n",
       "3                                         NaN  \n",
       "4  ['Macron', 'Bellatar', 'ConseilDesVilles']  "
      ]
     },
     "execution_count": 4,
     "metadata": {},
     "output_type": "execute_result"
    }
   ],
   "source": [
    "tweets.head()"
   ]
  },
  {
   "cell_type": "code",
   "execution_count": 5,
   "metadata": {},
   "outputs": [],
   "source": [
    "tweets.rename(columns={'Unnamed: 0':'num'}, inplace=True)"
   ]
  },
  {
   "cell_type": "code",
   "execution_count": 6,
   "metadata": {},
   "outputs": [
    {
     "data": {
      "text/html": [
       "<div>\n",
       "<style scoped>\n",
       "    .dataframe tbody tr th:only-of-type {\n",
       "        vertical-align: middle;\n",
       "    }\n",
       "\n",
       "    .dataframe tbody tr th {\n",
       "        vertical-align: top;\n",
       "    }\n",
       "\n",
       "    .dataframe thead th {\n",
       "        text-align: right;\n",
       "    }\n",
       "</style>\n",
       "<table border=\"1\" class=\"dataframe\">\n",
       "  <thead>\n",
       "    <tr style=\"text-align: right;\">\n",
       "      <th></th>\n",
       "      <th>num</th>\n",
       "      <th>date</th>\n",
       "      <th>text</th>\n",
       "      <th>hashtags</th>\n",
       "    </tr>\n",
       "  </thead>\n",
       "  <tbody>\n",
       "    <tr>\n",
       "      <th>0</th>\n",
       "      <td>0</td>\n",
       "      <td>Sun Mar 18 13:45:13 +0000 2018</td>\n",
       "      <td>Au lieu d'expulser des diplomates Russes il eu...</td>\n",
       "      <td>NaN</td>\n",
       "    </tr>\n",
       "    <tr>\n",
       "      <th>1</th>\n",
       "      <td>1</td>\n",
       "      <td>Sun Mar 18 15:47:19 +0000 2018</td>\n",
       "      <td>Selon l’ex Ambassadeur anglais en Ouzbékistan,...</td>\n",
       "      <td>NaN</td>\n",
       "    </tr>\n",
       "    <tr>\n",
       "      <th>2</th>\n",
       "      <td>2</td>\n",
       "      <td>Sun Mar 18 11:48:32 +0000 2018</td>\n",
       "      <td>@PhilipJ37 @EugenieBastie Tellement vrai.\\r\\nS...</td>\n",
       "      <td>NaN</td>\n",
       "    </tr>\n",
       "    <tr>\n",
       "      <th>3</th>\n",
       "      <td>3</td>\n",
       "      <td>Sun Mar 18 15:41:24 +0000 2018</td>\n",
       "      <td>BOMBE: Le capitaine Barril, ancien commandant ...</td>\n",
       "      <td>NaN</td>\n",
       "    </tr>\n",
       "    <tr>\n",
       "      <th>4</th>\n",
       "      <td>4</td>\n",
       "      <td>Sun Mar 18 14:32:39 +0000 2018</td>\n",
       "      <td>Dans la même semaine #Macron nomme le très amb...</td>\n",
       "      <td>['Macron', 'Bellatar', 'ConseilDesVilles']</td>\n",
       "    </tr>\n",
       "  </tbody>\n",
       "</table>\n",
       "</div>"
      ],
      "text/plain": [
       "  num                            date  \\\n",
       "0   0  Sun Mar 18 13:45:13 +0000 2018   \n",
       "1   1  Sun Mar 18 15:47:19 +0000 2018   \n",
       "2   2  Sun Mar 18 11:48:32 +0000 2018   \n",
       "3   3  Sun Mar 18 15:41:24 +0000 2018   \n",
       "4   4  Sun Mar 18 14:32:39 +0000 2018   \n",
       "\n",
       "                                                text  \\\n",
       "0  Au lieu d'expulser des diplomates Russes il eu...   \n",
       "1  Selon l’ex Ambassadeur anglais en Ouzbékistan,...   \n",
       "2  @PhilipJ37 @EugenieBastie Tellement vrai.\\r\\nS...   \n",
       "3  BOMBE: Le capitaine Barril, ancien commandant ...   \n",
       "4  Dans la même semaine #Macron nomme le très amb...   \n",
       "\n",
       "                                     hashtags  \n",
       "0                                         NaN  \n",
       "1                                         NaN  \n",
       "2                                         NaN  \n",
       "3                                         NaN  \n",
       "4  ['Macron', 'Bellatar', 'ConseilDesVilles']  "
      ]
     },
     "execution_count": 6,
     "metadata": {},
     "output_type": "execute_result"
    }
   ],
   "source": [
    "tweets.head()"
   ]
  },
  {
   "cell_type": "code",
   "execution_count": 7,
   "metadata": {},
   "outputs": [],
   "source": [
    "tw = tweets.copy()"
   ]
  },
  {
   "cell_type": "markdown",
   "metadata": {},
   "source": [
    "### 2/ Normalisation du texte"
   ]
  },
  {
   "cell_type": "code",
   "execution_count": 8,
   "metadata": {},
   "outputs": [
    {
     "data": {
      "text/html": [
       "<div>\n",
       "<style scoped>\n",
       "    .dataframe tbody tr th:only-of-type {\n",
       "        vertical-align: middle;\n",
       "    }\n",
       "\n",
       "    .dataframe tbody tr th {\n",
       "        vertical-align: top;\n",
       "    }\n",
       "\n",
       "    .dataframe thead th {\n",
       "        text-align: right;\n",
       "    }\n",
       "</style>\n",
       "<table border=\"1\" class=\"dataframe\">\n",
       "  <thead>\n",
       "    <tr style=\"text-align: right;\">\n",
       "      <th></th>\n",
       "      <th>num</th>\n",
       "      <th>date</th>\n",
       "      <th>text</th>\n",
       "      <th>hashtags</th>\n",
       "    </tr>\n",
       "  </thead>\n",
       "  <tbody>\n",
       "    <tr>\n",
       "      <th>0</th>\n",
       "      <td>0</td>\n",
       "      <td>Sun Mar 18 13:45:13 +0000 2018</td>\n",
       "      <td>au lieu d'expulser des diplomates russes il eu...</td>\n",
       "      <td>NaN</td>\n",
       "    </tr>\n",
       "    <tr>\n",
       "      <th>1</th>\n",
       "      <td>1</td>\n",
       "      <td>Sun Mar 18 15:47:19 +0000 2018</td>\n",
       "      <td>selon l’ex ambassadeur anglais en ouzbékistan,...</td>\n",
       "      <td>NaN</td>\n",
       "    </tr>\n",
       "    <tr>\n",
       "      <th>2</th>\n",
       "      <td>2</td>\n",
       "      <td>Sun Mar 18 11:48:32 +0000 2018</td>\n",
       "      <td>@philipj37 @eugeniebastie tellement vrai.\\r\\ns...</td>\n",
       "      <td>NaN</td>\n",
       "    </tr>\n",
       "    <tr>\n",
       "      <th>3</th>\n",
       "      <td>3</td>\n",
       "      <td>Sun Mar 18 15:41:24 +0000 2018</td>\n",
       "      <td>bombe: le capitaine barril, ancien commandant ...</td>\n",
       "      <td>NaN</td>\n",
       "    </tr>\n",
       "    <tr>\n",
       "      <th>4</th>\n",
       "      <td>4</td>\n",
       "      <td>Sun Mar 18 14:32:39 +0000 2018</td>\n",
       "      <td>dans la même semaine #macron nomme le très amb...</td>\n",
       "      <td>['Macron', 'Bellatar', 'ConseilDesVilles']</td>\n",
       "    </tr>\n",
       "  </tbody>\n",
       "</table>\n",
       "</div>"
      ],
      "text/plain": [
       "  num                            date  \\\n",
       "0   0  Sun Mar 18 13:45:13 +0000 2018   \n",
       "1   1  Sun Mar 18 15:47:19 +0000 2018   \n",
       "2   2  Sun Mar 18 11:48:32 +0000 2018   \n",
       "3   3  Sun Mar 18 15:41:24 +0000 2018   \n",
       "4   4  Sun Mar 18 14:32:39 +0000 2018   \n",
       "\n",
       "                                                text  \\\n",
       "0  au lieu d'expulser des diplomates russes il eu...   \n",
       "1  selon l’ex ambassadeur anglais en ouzbékistan,...   \n",
       "2  @philipj37 @eugeniebastie tellement vrai.\\r\\ns...   \n",
       "3  bombe: le capitaine barril, ancien commandant ...   \n",
       "4  dans la même semaine #macron nomme le très amb...   \n",
       "\n",
       "                                     hashtags  \n",
       "0                                         NaN  \n",
       "1                                         NaN  \n",
       "2                                         NaN  \n",
       "3                                         NaN  \n",
       "4  ['Macron', 'Bellatar', 'ConseilDesVilles']  "
      ]
     },
     "execution_count": 8,
     "metadata": {},
     "output_type": "execute_result"
    }
   ],
   "source": [
    "low = lambda x: str(x).lower()\n",
    "tweets['text'] = tweets.text.apply(low)\n",
    "tweets.head()"
   ]
  },
  {
   "cell_type": "markdown",
   "metadata": {},
   "source": [
    "### 3/ Supression des caracteres speciaux et double espaces"
   ]
  },
  {
   "cell_type": "code",
   "execution_count": 9,
   "metadata": {},
   "outputs": [
    {
     "data": {
      "text/plain": [
       "0    au lieu d'expulser des diplomates russes il eu...\n",
       "1    selon l’ex ambassadeur anglais en ouzbékistan,...\n",
       "2    @philipj37 @eugeniebastie tellement vrai.\\r\\ns...\n",
       "3    bombe: le capitaine barril, ancien commandant ...\n",
       "4    dans la même semaine #macron nomme le très amb...\n",
       "Name: text, dtype: object"
      ]
     },
     "execution_count": 9,
     "metadata": {},
     "output_type": "execute_result"
    }
   ],
   "source": [
    "#tweets['text'] = tweets['text'].apply(lambda x: re.sub('[!@#$:’).\";,?&%=>(<''©-]', '', x.lower()))\n",
    "tweets['text'] = tweets['text'].apply(lambda x: re.sub('  ', ' ', x))\n",
    "tweets['text'].head()"
   ]
  },
  {
   "cell_type": "code",
   "execution_count": 10,
   "metadata": {},
   "outputs": [
    {
     "data": {
      "text/plain": [
       "0    au lieu d'expulser des diplomates russes il eu...\n",
       "1    selon l’ex ambassadeur anglais en ouzbékistan,...\n",
       "2    tellement vrai. s'occuper de trump et de pouti...\n",
       "3    bombe: le capitaine barril, ancien commandant ...\n",
       "4    dans la même semaine #macron nomme le très amb...\n",
       "Name: text, dtype: object"
      ]
     },
     "execution_count": 10,
     "metadata": {},
     "output_type": "execute_result"
    }
   ],
   "source": [
    "for i in range(len(tweets['text'])):\n",
    "    tweets['text'][i] = \" \".join([word for word in tweets['text'][i].split()\n",
    "                                if 'http' not in word and '@' not in word and '<' not in word])\n",
    "tweets['text'].head()"
   ]
  },
  {
   "cell_type": "markdown",
   "metadata": {},
   "source": [
    "### 4/ Tokénisation"
   ]
  },
  {
   "cell_type": "code",
   "execution_count": 11,
   "metadata": {},
   "outputs": [
    {
     "data": {
      "text/plain": [
       "num         object\n",
       "date        object\n",
       "text        object\n",
       "hashtags    object\n",
       "dtype: object"
      ]
     },
     "execution_count": 11,
     "metadata": {},
     "output_type": "execute_result"
    }
   ],
   "source": [
    "tweets.dtypes"
   ]
  },
  {
   "cell_type": "code",
   "execution_count": 12,
   "metadata": {},
   "outputs": [
    {
     "data": {
      "text/plain": [
       "0    au lieu d'expulser des diplomates russes il eu...\n",
       "1    selon l’ex ambassadeur anglais en ouzbékistan,...\n",
       "2    tellement vrai. s'occuper de trump et de pouti...\n",
       "3    bombe: le capitaine barril, ancien commandant ...\n",
       "4    dans la même semaine #macron nomme le très amb...\n",
       "Name: text, dtype: object"
      ]
     },
     "execution_count": 12,
     "metadata": {},
     "output_type": "execute_result"
    }
   ],
   "source": [
    "tweets['text'].astype('str', inplace=True).head()"
   ]
  },
  {
   "cell_type": "code",
   "execution_count": 13,
   "metadata": {},
   "outputs": [
    {
     "data": {
      "text/plain": [
       "0    [au, lieu, d'expulser, des, diplomates, russes...\n",
       "1    [selon, l, ’, ex, ambassadeur, anglais, en, ou...\n",
       "2    [tellement, vrai, ., s'occuper, de, trump, et,...\n",
       "3    [bombe, :, le, capitaine, barril, ,, ancien, c...\n",
       "4    [dans, la, même, semaine, #, macron, nomme, le...\n",
       "Name: text, dtype: object"
      ]
     },
     "execution_count": 13,
     "metadata": {},
     "output_type": "execute_result"
    }
   ],
   "source": [
    "clean = lambda tx: word_tokenize(tx)\n",
    "tweets.text = tweets.text.apply(clean)\n",
    "tweets.text.head()"
   ]
  },
  {
   "cell_type": "markdown",
   "metadata": {},
   "source": [
    "### 5/ Stop-Words"
   ]
  },
  {
   "cell_type": "code",
   "execution_count": 14,
   "metadata": {},
   "outputs": [
    {
     "name": "stdout",
     "output_type": "stream",
     "text": [
      "['au', 'aux', 'avec', 'ce', 'ces', 'dans', 'de', 'des', 'du', 'elle', 'en', 'et', 'eux', 'il', 'je', 'la', 'le', 'leur', 'lui', 'ma', 'mais', 'me', 'même', 'mes', 'moi', 'mon', 'ne', 'nos', 'notre', 'nous', 'on', 'ou', 'par', 'pas', 'pour', 'qu', 'que', 'qui', 'sa', 'se', 'ses', 'son', 'sur', 'ta', 'te', 'tes', 'toi', 'ton', 'tu', 'un', 'une', 'vos', 'votre', 'vous', 'c', 'd', 'j', 'l', 'à', 'm', 'n', 's', 't', 'y', 'été', 'étée', 'étées', 'étés', 'étant', 'étante', 'étants', 'étantes', 'suis', 'es', 'est', 'sommes', 'êtes', 'sont', 'serai', 'seras', 'sera', 'serons', 'serez', 'seront', 'serais', 'serait', 'serions', 'seriez', 'seraient', 'étais', 'était', 'étions', 'étiez', 'étaient', 'fus', 'fut', 'fûmes', 'fûtes', 'furent', 'sois', 'soit', 'soyons', 'soyez', 'soient', 'fusse', 'fusses', 'fût', 'fussions', 'fussiez', 'fussent', 'ayant', 'ayante', 'ayantes', 'ayants', 'eu', 'eue', 'eues', 'eus', 'ai', 'as', 'avons', 'avez', 'ont', 'aurai', 'auras', 'aura', 'aurons', 'aurez', 'auront', 'aurais', 'aurait', 'aurions', 'auriez', 'auraient', 'avais', 'avait', 'avions', 'aviez', 'avaient', 'eut', 'eûmes', 'eûtes', 'eurent', 'aie', 'aies', 'ait', 'ayons', 'ayez', 'aient', 'eusse', 'eusses', 'eût', 'eussions', 'eussiez', 'eussent', '!', '\"', '#', '$', '%', '&', \"'\", '(', ')', '*', '+', ',', '-', '.', '/', ':', ';', '<', '=', '>', '?', '@', '[', '\\\\', ']', '^', '_', '`', '{', '|', '}', '~']\n"
     ]
    }
   ],
   "source": [
    "stopW = stopwords.words('french')\n",
    "punc = string.punctuation\n",
    "#print(stopW)\n",
    "filtered_sentence = [w for w in tweets['text'] if not w in stopW] \n",
    "# remove URLs, RTs, and twitter handles\n",
    "# for i in range(len(filtered_sentence)):\n",
    "#     filtered_sentence[i] =\" \".join([word for word in filtered_sentence[i]\n",
    "#                                if 'http' not in word  and '<' not in word])\n",
    "filtered_sentence[0]\n",
    "#stopW = stopW.extend(punc)\n",
    "stopW.extend(punc)\n",
    "print(stopW)"
   ]
  },
  {
   "cell_type": "code",
   "execution_count": 15,
   "metadata": {},
   "outputs": [],
   "source": [
    "def filtration(tk: list ):#texte tokenisé sous format de liste\n",
    "    l_filtree = []\n",
    "    for word in tk:\n",
    "        word = word.strip()\n",
    "        if word not in stopW:\n",
    "            l_filtree.append(str(word))\n",
    "    return l_filtree"
   ]
  },
  {
   "cell_type": "code",
   "execution_count": 16,
   "metadata": {},
   "outputs": [
    {
     "data": {
      "text/plain": [
       "0    [lieu, d'expulser, diplomates, russes, plus, c...\n",
       "1    [selon, ’, ex, ambassadeur, anglais, ouzbékist...\n",
       "2    [tellement, vrai, s'occuper, trump, poutine, c...\n",
       "3    [bombe, capitaine, barril, ancien, commandant,...\n",
       "4    [semaine, macron, nomme, très, ambigu, l'islam...\n",
       "Name: text, dtype: object"
      ]
     },
     "execution_count": 16,
     "metadata": {},
     "output_type": "execute_result"
    }
   ],
   "source": [
    "filtered_sentence = tweets['text'].apply(filtration)\n",
    "filtered_sentence.head()"
   ]
  },
  {
   "cell_type": "markdown",
   "metadata": {},
   "source": [
    "\n",
    "### 6/ Lemmatisation"
   ]
  },
  {
   "cell_type": "code",
   "execution_count": 17,
   "metadata": {},
   "outputs": [],
   "source": [
    "#fonction de lemmatisation\n",
    "def lemma(l:list):\n",
    "    new_l = ''\n",
    "    for word in l:\n",
    "        new_l += ' '+word\n",
    "    # strip retire les espaces au debut et a la fin de la chaine de caractere\n",
    "    new_l = new_l.strip()\n",
    "    n = nlp(new_l)\n",
    "    # boucle sur n et applique la fonction lemma_ sur chacun des tokens\n",
    "    x = []\n",
    "    for z in n:\n",
    "        x.append(z.lemma_)\n",
    "    return x"
   ]
  },
  {
   "cell_type": "code",
   "execution_count": 18,
   "metadata": {},
   "outputs": [],
   "source": [
    "tweetslemma = filtered_sentence.apply(lemma)"
   ]
  },
  {
   "cell_type": "code",
   "execution_count": 19,
   "metadata": {},
   "outputs": [
    {
     "data": {
      "text/plain": [
       "0    [lieu, de, expulser, diplomate, russe, plus, c...\n",
       "1    [selon, ’, ex, ambassadeur, anglais, ouzbékist...\n",
       "2    [tellement, vrai, si, occuper, trump, poutin, ...\n",
       "3    [bombe, capitaine, barril, ancien, commander, ...\n",
       "4    [semaine, macron, nommer, très, ambigu, le, is...\n",
       "Name: text, dtype: object"
      ]
     },
     "execution_count": 19,
     "metadata": {},
     "output_type": "execute_result"
    }
   ],
   "source": [
    "tweetslemma.head()"
   ]
  },
  {
   "cell_type": "code",
   "execution_count": 50,
   "metadata": {},
   "outputs": [
    {
     "data": {
      "text/plain": [
       "0    [lieu, expulser, diplomate, russe, plus, concr...\n",
       "1    [selon, ’, ex, ambassadeur, anglais, ouzbékist...\n",
       "2    [tellement, vrai, si, occuper, trump, poutin, ...\n",
       "3    [bombe, capitaine, barril, ancien, commander, ...\n",
       "4    [semaine, macron, nommer, très, ambigu, islami...\n",
       "Name: text, dtype: object"
      ]
     },
     "execution_count": 50,
     "metadata": {},
     "output_type": "execute_result"
    }
   ],
   "source": [
    "tweetslemma = tweetslemma.apply(filtration)\n",
    "tweetslemma.head()"
   ]
  },
  {
   "cell_type": "markdown",
   "metadata": {},
   "source": [
    "<br>\n",
    "<br>\n",
    "<hr>\n",
    "<h2 align='center'><b>2eme Partie: </b>Attribution d'un taux de polarite de sentiment</h2>"
   ]
  },
  {
   "cell_type": "markdown",
   "metadata": {},
   "source": [
    "### 1/ Agregation des donnees"
   ]
  },
  {
   "cell_type": "code",
   "execution_count": 21,
   "metadata": {},
   "outputs": [
    {
     "data": {
      "text/html": [
       "<div>\n",
       "<style scoped>\n",
       "    .dataframe tbody tr th:only-of-type {\n",
       "        vertical-align: middle;\n",
       "    }\n",
       "\n",
       "    .dataframe tbody tr th {\n",
       "        vertical-align: top;\n",
       "    }\n",
       "\n",
       "    .dataframe thead th {\n",
       "        text-align: right;\n",
       "    }\n",
       "</style>\n",
       "<table border=\"1\" class=\"dataframe\">\n",
       "  <thead>\n",
       "    <tr style=\"text-align: right;\">\n",
       "      <th></th>\n",
       "      <th>polarity</th>\n",
       "    </tr>\n",
       "    <tr>\n",
       "      <th>word</th>\n",
       "      <th></th>\n",
       "    </tr>\n",
       "  </thead>\n",
       "  <tbody>\n",
       "    <tr>\n",
       "      <th>à ce endroit là</th>\n",
       "      <td>positive</td>\n",
       "    </tr>\n",
       "    <tr>\n",
       "      <th>à le hâte</th>\n",
       "      <td>negative</td>\n",
       "    </tr>\n",
       "    <tr>\n",
       "      <th>à part</th>\n",
       "      <td>negative</td>\n",
       "    </tr>\n",
       "    <tr>\n",
       "      <th>à pic</th>\n",
       "      <td>negative</td>\n",
       "    </tr>\n",
       "    <tr>\n",
       "      <th>à rallonge</th>\n",
       "      <td>negative</td>\n",
       "    </tr>\n",
       "  </tbody>\n",
       "</table>\n",
       "</div>"
      ],
      "text/plain": [
       "                 polarity\n",
       "word                     \n",
       "à ce endroit là  positive\n",
       "à le hâte        negative\n",
       "à part           negative\n",
       "à pic            negative\n",
       "à rallonge       negative"
      ]
     },
     "execution_count": 21,
     "metadata": {},
     "output_type": "execute_result"
    }
   ],
   "source": [
    "# Import du fichier Feel.csv\n",
    "fe = pd.read_csv('./nlp_fr/FEEL.csv', sep=';', encoding='utf-8')\n",
    "fe.set_index('word', inplace=True)\n",
    "fe = fe[['polarity']]\n",
    "fe.head(5)"
   ]
  },
  {
   "cell_type": "code",
   "execution_count": 22,
   "metadata": {},
   "outputs": [
    {
     "data": {
      "text/html": [
       "<div>\n",
       "<style scoped>\n",
       "    .dataframe tbody tr th:only-of-type {\n",
       "        vertical-align: middle;\n",
       "    }\n",
       "\n",
       "    .dataframe tbody tr th {\n",
       "        vertical-align: top;\n",
       "    }\n",
       "\n",
       "    .dataframe thead th {\n",
       "        text-align: right;\n",
       "    }\n",
       "</style>\n",
       "<table border=\"1\" class=\"dataframe\">\n",
       "  <thead>\n",
       "    <tr style=\"text-align: right;\">\n",
       "      <th></th>\n",
       "      <th>polarity</th>\n",
       "    </tr>\n",
       "  </thead>\n",
       "  <tbody>\n",
       "    <tr>\n",
       "      <th>à bas prix</th>\n",
       "      <td>positif</td>\n",
       "    </tr>\n",
       "    <tr>\n",
       "      <th>à couper le souffle</th>\n",
       "      <td>positif</td>\n",
       "    </tr>\n",
       "    <tr>\n",
       "      <th>à croissance rapide</th>\n",
       "      <td>positif</td>\n",
       "    </tr>\n",
       "    <tr>\n",
       "      <th>à être vu</th>\n",
       "      <td>positif</td>\n",
       "    </tr>\n",
       "    <tr>\n",
       "      <th>à juste titre</th>\n",
       "      <td>positif</td>\n",
       "    </tr>\n",
       "  </tbody>\n",
       "</table>\n",
       "</div>"
      ],
      "text/plain": [
       "                    polarity\n",
       "à bas prix           positif\n",
       "à couper le souffle  positif\n",
       "à croissance rapide  positif\n",
       "à être vu            positif\n",
       "à juste titre        positif"
      ]
     },
     "execution_count": 22,
     "metadata": {},
     "output_type": "execute_result"
    }
   ],
   "source": [
    "#import motsJoyeux et motNegatifs\n",
    "with open('motsJoyeux', 'r', encoding='utf-8-sig', ) as f:\n",
    "    x = f.read().split(',')\n",
    "motsJoyeux = [mot.lower().strip() for mot in x]\n",
    "p = pd.Series('positif', index=motsJoyeux)\n",
    "p = p.to_frame().rename(columns={0:'polarity'})\n",
    "\n",
    "\n",
    "with open('motsNegatifs', 'r', encoding='utf-8-sig') as f:\n",
    "    x = f.read().split(',')\n",
    "motsNegatifs = [mot.lower().strip() for mot in x]\n",
    "n = pd.Series('negatif', index=motsNegatifs)\n",
    "n = n.to_frame().rename(columns={0:'polarity'})\n",
    "\n",
    "p.head()"
   ]
  },
  {
   "cell_type": "code",
   "execution_count": null,
   "metadata": {},
   "outputs": [],
   "source": []
  },
  {
   "cell_type": "code",
   "execution_count": 23,
   "metadata": {},
   "outputs": [
    {
     "name": "stdout",
     "output_type": "stream",
     "text": [
      "14127\n",
      "15627\n",
      "15783\n",
      "paisible    3\n",
      "mauvais     3\n",
      "fier        3\n",
      "fermeté     3\n",
      "honneur     3\n",
      "dtype: int64\n"
     ]
    },
    {
     "data": {
      "text/html": [
       "<div>\n",
       "<style scoped>\n",
       "    .dataframe tbody tr th:only-of-type {\n",
       "        vertical-align: middle;\n",
       "    }\n",
       "\n",
       "    .dataframe tbody tr th {\n",
       "        vertical-align: top;\n",
       "    }\n",
       "\n",
       "    .dataframe thead th {\n",
       "        text-align: right;\n",
       "    }\n",
       "</style>\n",
       "<table border=\"1\" class=\"dataframe\">\n",
       "  <thead>\n",
       "    <tr style=\"text-align: right;\">\n",
       "      <th></th>\n",
       "      <th>polarity</th>\n",
       "    </tr>\n",
       "  </thead>\n",
       "  <tbody>\n",
       "    <tr>\n",
       "      <th>à ce endroit là</th>\n",
       "      <td>positive</td>\n",
       "    </tr>\n",
       "    <tr>\n",
       "      <th>à le hâte</th>\n",
       "      <td>negative</td>\n",
       "    </tr>\n",
       "    <tr>\n",
       "      <th>à part</th>\n",
       "      <td>negative</td>\n",
       "    </tr>\n",
       "    <tr>\n",
       "      <th>à pic</th>\n",
       "      <td>negative</td>\n",
       "    </tr>\n",
       "    <tr>\n",
       "      <th>à rallonge</th>\n",
       "      <td>negative</td>\n",
       "    </tr>\n",
       "  </tbody>\n",
       "</table>\n",
       "</div>"
      ],
      "text/plain": [
       "                 polarity\n",
       "à ce endroit là  positive\n",
       "à le hâte        negative\n",
       "à part           negative\n",
       "à pic            negative\n",
       "à rallonge       negative"
      ]
     },
     "execution_count": 23,
     "metadata": {},
     "output_type": "execute_result"
    }
   ],
   "source": [
    "# Aggregation des donnees\n",
    "f = fe.copy()\n",
    "print(len(f))\n",
    "f = pd.concat([f,p], axis=0)\n",
    "print(len(f))\n",
    "f = pd.concat([f,n], axis=0)\n",
    "print(len(f))\n",
    "print(f.index.value_counts().head()) \n",
    "f.head()"
   ]
  },
  {
   "cell_type": "code",
   "execution_count": 24,
   "metadata": {},
   "outputs": [
    {
     "name": "stdout",
     "output_type": "stream",
     "text": [
      "True\n"
     ]
    }
   ],
   "source": [
    "print(len(f.groupby(f.index).first())== len(f[~f.index.duplicated(keep='first')]))"
   ]
  },
  {
   "cell_type": "code",
   "execution_count": 25,
   "metadata": {},
   "outputs": [
    {
     "name": "stdout",
     "output_type": "stream",
     "text": [
      "paisible    3\n",
      "mauvais     3\n",
      "fier        3\n",
      "fermeté     3\n",
      "honneur     3\n",
      "dtype: int64\n"
     ]
    }
   ],
   "source": [
    "print(f.index.value_counts().head()) "
   ]
  },
  {
   "cell_type": "code",
   "execution_count": 26,
   "metadata": {},
   "outputs": [],
   "source": [
    "#Transformer le df pol en deux listes\n",
    "pP = set(f[f['polarity']=='positive'].index.values)\n",
    "pN = set(f[f['polarity']=='negative'].index.values)"
   ]
  },
  {
   "cell_type": "code",
   "execution_count": 27,
   "metadata": {},
   "outputs": [],
   "source": [
    "pN = [w.strip() for w in pN]"
   ]
  },
  {
   "cell_type": "markdown",
   "metadata": {},
   "source": [
    "### 2/ Fonction de calcul des polarite"
   ]
  },
  {
   "cell_type": "code",
   "execution_count": 28,
   "metadata": {},
   "outputs": [],
   "source": [
    "def calculpolarite(text: str):\n",
    "    scoreP = [True for word in text if word in pP].count(True)\n",
    "    scoreN = [True for word in text if word in pN].count(True)\n",
    "    if(scoreP>scoreN):\n",
    "        p = 'positif'\n",
    "        s = \"{0:.2f}\".format(scoreP/(scoreN+scoreP))\n",
    "    elif(scoreP==scoreN):\n",
    "        p= 'neutre'\n",
    "        s=0\n",
    "    else:\n",
    "        p= 'negatif' \n",
    "        s =\"{0:.2f}\".format(scoreN/(scoreN+scoreP))\n",
    "    return [p,s]"
   ]
  },
  {
   "cell_type": "code",
   "execution_count": 29,
   "metadata": {},
   "outputs": [],
   "source": [
    "# test pour nouvelle fonction\n",
    "rs =list(tweetslemma[:5].apply(calculpolarite))"
   ]
  },
  {
   "cell_type": "code",
   "execution_count": 30,
   "metadata": {},
   "outputs": [
    {
     "data": {
      "text/plain": [
       "array(['0.71', '0.70', '0', '0', '0.75'], dtype='<U7')"
      ]
     },
     "execution_count": 30,
     "metadata": {},
     "output_type": "execute_result"
    }
   ],
   "source": [
    "# Suite test\n",
    "rs = np.array(rs)\n",
    "rs[:,1]"
   ]
  },
  {
   "cell_type": "code",
   "execution_count": 31,
   "metadata": {},
   "outputs": [],
   "source": [
    "polarite = list(tweetslemma.apply(calculpolarite))\n",
    "polarite = np.array(polarite)"
   ]
  },
  {
   "cell_type": "code",
   "execution_count": 32,
   "metadata": {},
   "outputs": [
    {
     "data": {
      "text/html": [
       "<div>\n",
       "<style scoped>\n",
       "    .dataframe tbody tr th:only-of-type {\n",
       "        vertical-align: middle;\n",
       "    }\n",
       "\n",
       "    .dataframe tbody tr th {\n",
       "        vertical-align: top;\n",
       "    }\n",
       "\n",
       "    .dataframe thead th {\n",
       "        text-align: right;\n",
       "    }\n",
       "</style>\n",
       "<table border=\"1\" class=\"dataframe\">\n",
       "  <thead>\n",
       "    <tr style=\"text-align: right;\">\n",
       "      <th></th>\n",
       "      <th>num</th>\n",
       "      <th>date</th>\n",
       "      <th>text</th>\n",
       "      <th>hashtags</th>\n",
       "      <th>sentiment</th>\n",
       "      <th>taux</th>\n",
       "    </tr>\n",
       "  </thead>\n",
       "  <tbody>\n",
       "    <tr>\n",
       "      <th>0</th>\n",
       "      <td>0</td>\n",
       "      <td>Sun Mar 18 13:45:13 +0000 2018</td>\n",
       "      <td>[au, lieu, d'expulser, des, diplomates, russes...</td>\n",
       "      <td>NaN</td>\n",
       "      <td>positif</td>\n",
       "      <td>0.71</td>\n",
       "    </tr>\n",
       "    <tr>\n",
       "      <th>1</th>\n",
       "      <td>1</td>\n",
       "      <td>Sun Mar 18 15:47:19 +0000 2018</td>\n",
       "      <td>[selon, l, ’, ex, ambassadeur, anglais, en, ou...</td>\n",
       "      <td>NaN</td>\n",
       "      <td>positif</td>\n",
       "      <td>0.70</td>\n",
       "    </tr>\n",
       "    <tr>\n",
       "      <th>2</th>\n",
       "      <td>2</td>\n",
       "      <td>Sun Mar 18 11:48:32 +0000 2018</td>\n",
       "      <td>[tellement, vrai, ., s'occuper, de, trump, et,...</td>\n",
       "      <td>NaN</td>\n",
       "      <td>neutre</td>\n",
       "      <td>0</td>\n",
       "    </tr>\n",
       "    <tr>\n",
       "      <th>3</th>\n",
       "      <td>3</td>\n",
       "      <td>Sun Mar 18 15:41:24 +0000 2018</td>\n",
       "      <td>[bombe, :, le, capitaine, barril, ,, ancien, c...</td>\n",
       "      <td>NaN</td>\n",
       "      <td>neutre</td>\n",
       "      <td>0</td>\n",
       "    </tr>\n",
       "    <tr>\n",
       "      <th>4</th>\n",
       "      <td>4</td>\n",
       "      <td>Sun Mar 18 14:32:39 +0000 2018</td>\n",
       "      <td>[dans, la, même, semaine, #, macron, nomme, le...</td>\n",
       "      <td>['Macron', 'Bellatar', 'ConseilDesVilles']</td>\n",
       "      <td>positif</td>\n",
       "      <td>0.75</td>\n",
       "    </tr>\n",
       "  </tbody>\n",
       "</table>\n",
       "</div>"
      ],
      "text/plain": [
       "  num                            date  \\\n",
       "0   0  Sun Mar 18 13:45:13 +0000 2018   \n",
       "1   1  Sun Mar 18 15:47:19 +0000 2018   \n",
       "2   2  Sun Mar 18 11:48:32 +0000 2018   \n",
       "3   3  Sun Mar 18 15:41:24 +0000 2018   \n",
       "4   4  Sun Mar 18 14:32:39 +0000 2018   \n",
       "\n",
       "                                                text  \\\n",
       "0  [au, lieu, d'expulser, des, diplomates, russes...   \n",
       "1  [selon, l, ’, ex, ambassadeur, anglais, en, ou...   \n",
       "2  [tellement, vrai, ., s'occuper, de, trump, et,...   \n",
       "3  [bombe, :, le, capitaine, barril, ,, ancien, c...   \n",
       "4  [dans, la, même, semaine, #, macron, nomme, le...   \n",
       "\n",
       "                                     hashtags sentiment  taux  \n",
       "0                                         NaN   positif  0.71  \n",
       "1                                         NaN   positif  0.70  \n",
       "2                                         NaN    neutre     0  \n",
       "3                                         NaN    neutre     0  \n",
       "4  ['Macron', 'Bellatar', 'ConseilDesVilles']   positif  0.75  "
      ]
     },
     "execution_count": 32,
     "metadata": {},
     "output_type": "execute_result"
    }
   ],
   "source": [
    "tweets['sentiment'] = polarite[:,0]\n",
    "tweets['taux']= polarite[:,1]\n",
    "tweets.head()"
   ]
  },
  {
   "cell_type": "code",
   "execution_count": 33,
   "metadata": {},
   "outputs": [],
   "source": [
    "# from collections import Counter\n",
    "\n",
    "# def evaltweet(s:list):\n",
    "#     pola = [' '.join(pol[pol.word == e].polarity) for e in s]\n",
    "#     pola = Counter(pola)\n",
    "#     polap = pola.get('positive', 0)\n",
    "#     polan = pola.get('negative', 0)\n",
    "#     return '¯\\\\_(ツ)_/¯' if (polap + polan) == 0 else {'positif':polap / (polap + polan), 'negatif':polan / (polap + polan)}"
   ]
  },
  {
   "cell_type": "code",
   "execution_count": 34,
   "metadata": {},
   "outputs": [],
   "source": [
    "# def evaltweet2(s:list):\n",
    "#     pola = [' '.join(pol[pol.word == e].polarity) for e in s]\n",
    "#     pola = Counter(pola)\n",
    "#     polap = pola.get('positive', 0)\n",
    "#     polan = pola.get('negative', 0)\n",
    "#     if (polap == polan):\n",
    "#         p = 'neutre'\n",
    "#     elif (polap>polan):\n",
    "#         p= 'positif'\n",
    "#     else:\n",
    "#         p= 'negatif'\n",
    "#     return p"
   ]
  },
  {
   "cell_type": "code",
   "execution_count": 35,
   "metadata": {},
   "outputs": [],
   "source": [
    "# def help_apply():\n",
    "#     # de 0 a 7328, boucler tous les 1000\n",
    "#     deb = 0\n",
    "#     fin = 500\n",
    "#     polarite = []\n",
    "#     for i in range(16):\n",
    "#         polarite.append(tweetslemma[deb:fin].apply(evaltweet2))\n",
    "#         deb += 500\n",
    "#         fin += 500\n",
    "#         if(fin>7328):\n",
    "#             fin = 7328\n",
    "#     return polarite"
   ]
  },
  {
   "cell_type": "code",
   "execution_count": 36,
   "metadata": {},
   "outputs": [],
   "source": [
    "# tweets['processed_text'] = tweetslemma\n",
    "# tweets.head()"
   ]
  },
  {
   "cell_type": "code",
   "execution_count": 37,
   "metadata": {},
   "outputs": [
    {
     "data": {
      "text/plain": [
       "(7327,)"
      ]
     },
     "execution_count": 37,
     "metadata": {},
     "output_type": "execute_result"
    }
   ],
   "source": [
    "tweetslemma.shape"
   ]
  },
  {
   "cell_type": "markdown",
   "metadata": {},
   "source": [
    "## Preparation des donnees pour l'export"
   ]
  },
  {
   "cell_type": "code",
   "execution_count": 38,
   "metadata": {},
   "outputs": [],
   "source": [
    "# for i in pol.word:\n",
    "#     if (tweets.text[0].find(i)) != -1:\n",
    "#         print(\"Ce tweet contient [\" + i + \"] avec la polarité: \" + pol.polarity)"
   ]
  },
  {
   "cell_type": "code",
   "execution_count": 39,
   "metadata": {},
   "outputs": [],
   "source": [
    "tweets.hashtags.replace(\"[][']\", '', regex=True, inplace=True)"
   ]
  },
  {
   "cell_type": "code",
   "execution_count": 68,
   "metadata": {},
   "outputs": [],
   "source": [
    "textjoin = lambda l : ','.join([w.strip() for w in l])\n",
    "t = tweetslemma.apply(textjoin)\n",
    "tweets['words'] = t"
   ]
  },
  {
   "cell_type": "code",
   "execution_count": 69,
   "metadata": {},
   "outputs": [
    {
     "data": {
      "text/html": [
       "<div>\n",
       "<style scoped>\n",
       "    .dataframe tbody tr th:only-of-type {\n",
       "        vertical-align: middle;\n",
       "    }\n",
       "\n",
       "    .dataframe tbody tr th {\n",
       "        vertical-align: top;\n",
       "    }\n",
       "\n",
       "    .dataframe thead th {\n",
       "        text-align: right;\n",
       "    }\n",
       "</style>\n",
       "<table border=\"1\" class=\"dataframe\">\n",
       "  <thead>\n",
       "    <tr style=\"text-align: right;\">\n",
       "      <th></th>\n",
       "      <th>num</th>\n",
       "      <th>date</th>\n",
       "      <th>text</th>\n",
       "      <th>hashtags</th>\n",
       "      <th>sentiment</th>\n",
       "      <th>taux</th>\n",
       "      <th>words</th>\n",
       "    </tr>\n",
       "  </thead>\n",
       "  <tbody>\n",
       "    <tr>\n",
       "      <th>0</th>\n",
       "      <td>0</td>\n",
       "      <td>Sun Mar 18 13:45:13 +0000 2018</td>\n",
       "      <td>Au lieu d'expulser des diplomates Russes il eu...</td>\n",
       "      <td>NO HASHTAG</td>\n",
       "      <td>positif</td>\n",
       "      <td>0.71</td>\n",
       "      <td>lieu,expulser,diplomate,russe,plus,concret,plu...</td>\n",
       "    </tr>\n",
       "    <tr>\n",
       "      <th>1</th>\n",
       "      <td>1</td>\n",
       "      <td>Sun Mar 18 15:47:19 +0000 2018</td>\n",
       "      <td>Selon l’ex Ambassadeur anglais en Ouzbékistan,...</td>\n",
       "      <td>NO HASHTAG</td>\n",
       "      <td>positif</td>\n",
       "      <td>0.70</td>\n",
       "      <td>selon,’,ex,ambassadeur,anglais,ouzbékistan,``,...</td>\n",
       "    </tr>\n",
       "    <tr>\n",
       "      <th>2</th>\n",
       "      <td>2</td>\n",
       "      <td>Sun Mar 18 11:48:32 +0000 2018</td>\n",
       "      <td>@PhilipJ37 @EugenieBastie Tellement vrai.\\r\\nS...</td>\n",
       "      <td>NO HASHTAG</td>\n",
       "      <td>neutre</td>\n",
       "      <td>0</td>\n",
       "      <td>tellement,vrai,si,occuper,trump,poutin,être,te...</td>\n",
       "    </tr>\n",
       "    <tr>\n",
       "      <th>3</th>\n",
       "      <td>3</td>\n",
       "      <td>Sun Mar 18 15:41:24 +0000 2018</td>\n",
       "      <td>BOMBE: Le capitaine Barril, ancien commandant ...</td>\n",
       "      <td>NO HASHTAG</td>\n",
       "      <td>neutre</td>\n",
       "      <td>0</td>\n",
       "      <td>bombe,capitaine,barril,ancien,commander,gign,«...</td>\n",
       "    </tr>\n",
       "    <tr>\n",
       "      <th>4</th>\n",
       "      <td>4</td>\n",
       "      <td>Sun Mar 18 14:32:39 +0000 2018</td>\n",
       "      <td>Dans la même semaine #Macron nomme le très amb...</td>\n",
       "      <td>Macron, Bellatar, ConseilDesVilles</td>\n",
       "      <td>positif</td>\n",
       "      <td>0.75</td>\n",
       "      <td>semaine,macron,nommer,très,ambigu,islamisme,be...</td>\n",
       "    </tr>\n",
       "  </tbody>\n",
       "</table>\n",
       "</div>"
      ],
      "text/plain": [
       "  num                            date  \\\n",
       "0   0  Sun Mar 18 13:45:13 +0000 2018   \n",
       "1   1  Sun Mar 18 15:47:19 +0000 2018   \n",
       "2   2  Sun Mar 18 11:48:32 +0000 2018   \n",
       "3   3  Sun Mar 18 15:41:24 +0000 2018   \n",
       "4   4  Sun Mar 18 14:32:39 +0000 2018   \n",
       "\n",
       "                                                text  \\\n",
       "0  Au lieu d'expulser des diplomates Russes il eu...   \n",
       "1  Selon l’ex Ambassadeur anglais en Ouzbékistan,...   \n",
       "2  @PhilipJ37 @EugenieBastie Tellement vrai.\\r\\nS...   \n",
       "3  BOMBE: Le capitaine Barril, ancien commandant ...   \n",
       "4  Dans la même semaine #Macron nomme le très amb...   \n",
       "\n",
       "                             hashtags sentiment  taux  \\\n",
       "0                          NO HASHTAG   positif  0.71   \n",
       "1                          NO HASHTAG   positif  0.70   \n",
       "2                          NO HASHTAG    neutre     0   \n",
       "3                          NO HASHTAG    neutre     0   \n",
       "4  Macron, Bellatar, ConseilDesVilles   positif  0.75   \n",
       "\n",
       "                                               words  \n",
       "0  lieu,expulser,diplomate,russe,plus,concret,plu...  \n",
       "1  selon,’,ex,ambassadeur,anglais,ouzbékistan,``,...  \n",
       "2  tellement,vrai,si,occuper,trump,poutin,être,te...  \n",
       "3  bombe,capitaine,barril,ancien,commander,gign,«...  \n",
       "4  semaine,macron,nommer,très,ambigu,islamisme,be...  "
      ]
     },
     "execution_count": 69,
     "metadata": {},
     "output_type": "execute_result"
    }
   ],
   "source": [
    "tweets.head()"
   ]
  },
  {
   "cell_type": "code",
   "execution_count": 70,
   "metadata": {},
   "outputs": [
    {
     "data": {
      "text/html": [
       "<div>\n",
       "<style scoped>\n",
       "    .dataframe tbody tr th:only-of-type {\n",
       "        vertical-align: middle;\n",
       "    }\n",
       "\n",
       "    .dataframe tbody tr th {\n",
       "        vertical-align: top;\n",
       "    }\n",
       "\n",
       "    .dataframe thead th {\n",
       "        text-align: right;\n",
       "    }\n",
       "</style>\n",
       "<table border=\"1\" class=\"dataframe\">\n",
       "  <thead>\n",
       "    <tr style=\"text-align: right;\">\n",
       "      <th></th>\n",
       "      <th>num</th>\n",
       "      <th>date</th>\n",
       "      <th>text</th>\n",
       "      <th>hashtags</th>\n",
       "      <th>sentiment</th>\n",
       "      <th>taux</th>\n",
       "      <th>words</th>\n",
       "    </tr>\n",
       "  </thead>\n",
       "  <tbody>\n",
       "    <tr>\n",
       "      <th>0</th>\n",
       "      <td>0</td>\n",
       "      <td>Sun Mar 18 13:45:13 +0000 2018</td>\n",
       "      <td>Au lieu d'expulser des diplomates Russes il eu...</td>\n",
       "      <td>NO HASHTAG</td>\n",
       "      <td>positif</td>\n",
       "      <td>0.71</td>\n",
       "      <td>lieu,expulser,diplomate,russe,plus,concret,plu...</td>\n",
       "    </tr>\n",
       "    <tr>\n",
       "      <th>1</th>\n",
       "      <td>1</td>\n",
       "      <td>Sun Mar 18 15:47:19 +0000 2018</td>\n",
       "      <td>Selon l’ex Ambassadeur anglais en Ouzbékistan,...</td>\n",
       "      <td>NO HASHTAG</td>\n",
       "      <td>positif</td>\n",
       "      <td>0.70</td>\n",
       "      <td>selon,’,ex,ambassadeur,anglais,ouzbékistan,``,...</td>\n",
       "    </tr>\n",
       "    <tr>\n",
       "      <th>2</th>\n",
       "      <td>2</td>\n",
       "      <td>Sun Mar 18 11:48:32 +0000 2018</td>\n",
       "      <td>@PhilipJ37 @EugenieBastie Tellement vrai.\\r\\nS...</td>\n",
       "      <td>NO HASHTAG</td>\n",
       "      <td>neutre</td>\n",
       "      <td>0</td>\n",
       "      <td>tellement,vrai,si,occuper,trump,poutin,être,te...</td>\n",
       "    </tr>\n",
       "    <tr>\n",
       "      <th>3</th>\n",
       "      <td>3</td>\n",
       "      <td>Sun Mar 18 15:41:24 +0000 2018</td>\n",
       "      <td>BOMBE: Le capitaine Barril, ancien commandant ...</td>\n",
       "      <td>NO HASHTAG</td>\n",
       "      <td>neutre</td>\n",
       "      <td>0</td>\n",
       "      <td>bombe,capitaine,barril,ancien,commander,gign,«...</td>\n",
       "    </tr>\n",
       "    <tr>\n",
       "      <th>4</th>\n",
       "      <td>4</td>\n",
       "      <td>Sun Mar 18 14:32:39 +0000 2018</td>\n",
       "      <td>Dans la même semaine #Macron nomme le très amb...</td>\n",
       "      <td>Macron, Bellatar, ConseilDesVilles</td>\n",
       "      <td>positif</td>\n",
       "      <td>0.75</td>\n",
       "      <td>semaine,macron,nommer,très,ambigu,islamisme,be...</td>\n",
       "    </tr>\n",
       "  </tbody>\n",
       "</table>\n",
       "</div>"
      ],
      "text/plain": [
       "  num                            date  \\\n",
       "0   0  Sun Mar 18 13:45:13 +0000 2018   \n",
       "1   1  Sun Mar 18 15:47:19 +0000 2018   \n",
       "2   2  Sun Mar 18 11:48:32 +0000 2018   \n",
       "3   3  Sun Mar 18 15:41:24 +0000 2018   \n",
       "4   4  Sun Mar 18 14:32:39 +0000 2018   \n",
       "\n",
       "                                                text  \\\n",
       "0  Au lieu d'expulser des diplomates Russes il eu...   \n",
       "1  Selon l’ex Ambassadeur anglais en Ouzbékistan,...   \n",
       "2  @PhilipJ37 @EugenieBastie Tellement vrai.\\r\\nS...   \n",
       "3  BOMBE: Le capitaine Barril, ancien commandant ...   \n",
       "4  Dans la même semaine #Macron nomme le très amb...   \n",
       "\n",
       "                             hashtags sentiment  taux  \\\n",
       "0                          NO HASHTAG   positif  0.71   \n",
       "1                          NO HASHTAG   positif  0.70   \n",
       "2                          NO HASHTAG    neutre     0   \n",
       "3                          NO HASHTAG    neutre     0   \n",
       "4  Macron, Bellatar, ConseilDesVilles   positif  0.75   \n",
       "\n",
       "                                               words  \n",
       "0  lieu,expulser,diplomate,russe,plus,concret,plu...  \n",
       "1  selon,’,ex,ambassadeur,anglais,ouzbékistan,``,...  \n",
       "2  tellement,vrai,si,occuper,trump,poutin,être,te...  \n",
       "3  bombe,capitaine,barril,ancien,commander,gign,«...  \n",
       "4  semaine,macron,nommer,très,ambigu,islamisme,be...  "
      ]
     },
     "execution_count": 70,
     "metadata": {},
     "output_type": "execute_result"
    }
   ],
   "source": [
    "#Recuperer la colonne text du df de depart\n",
    "tweets['text'] = tw.text\n",
    "tweets.head()"
   ]
  },
  {
   "cell_type": "code",
   "execution_count": 71,
   "metadata": {},
   "outputs": [
    {
     "data": {
      "text/html": [
       "<div>\n",
       "<style scoped>\n",
       "    .dataframe tbody tr th:only-of-type {\n",
       "        vertical-align: middle;\n",
       "    }\n",
       "\n",
       "    .dataframe tbody tr th {\n",
       "        vertical-align: top;\n",
       "    }\n",
       "\n",
       "    .dataframe thead th {\n",
       "        text-align: right;\n",
       "    }\n",
       "</style>\n",
       "<table border=\"1\" class=\"dataframe\">\n",
       "  <thead>\n",
       "    <tr style=\"text-align: right;\">\n",
       "      <th></th>\n",
       "      <th>num</th>\n",
       "      <th>date</th>\n",
       "      <th>text</th>\n",
       "      <th>hashtags</th>\n",
       "      <th>sentiment</th>\n",
       "      <th>taux</th>\n",
       "      <th>words</th>\n",
       "    </tr>\n",
       "  </thead>\n",
       "  <tbody>\n",
       "    <tr>\n",
       "      <th>0</th>\n",
       "      <td>0</td>\n",
       "      <td>Sun Mar 18 13:45:13 +0000 2018</td>\n",
       "      <td>Au lieu d'expulser des diplomates Russes il eu...</td>\n",
       "      <td>NO HASHTAG</td>\n",
       "      <td>positif</td>\n",
       "      <td>0.71</td>\n",
       "      <td>lieu,expulser,diplomate,russe,plus,concret,plu...</td>\n",
       "    </tr>\n",
       "    <tr>\n",
       "      <th>1</th>\n",
       "      <td>1</td>\n",
       "      <td>Sun Mar 18 15:47:19 +0000 2018</td>\n",
       "      <td>Selon l’ex Ambassadeur anglais en Ouzbékistan,...</td>\n",
       "      <td>NO HASHTAG</td>\n",
       "      <td>positif</td>\n",
       "      <td>0.70</td>\n",
       "      <td>selon,’,ex,ambassadeur,anglais,ouzbékistan,``,...</td>\n",
       "    </tr>\n",
       "    <tr>\n",
       "      <th>2</th>\n",
       "      <td>2</td>\n",
       "      <td>Sun Mar 18 11:48:32 +0000 2018</td>\n",
       "      <td>@PhilipJ37 @EugenieBastie Tellement vrai.\\r\\nS...</td>\n",
       "      <td>NO HASHTAG</td>\n",
       "      <td>neutre</td>\n",
       "      <td>0</td>\n",
       "      <td>tellement,vrai,si,occuper,trump,poutin,être,te...</td>\n",
       "    </tr>\n",
       "    <tr>\n",
       "      <th>3</th>\n",
       "      <td>3</td>\n",
       "      <td>Sun Mar 18 15:41:24 +0000 2018</td>\n",
       "      <td>BOMBE: Le capitaine Barril, ancien commandant ...</td>\n",
       "      <td>NO HASHTAG</td>\n",
       "      <td>neutre</td>\n",
       "      <td>0</td>\n",
       "      <td>bombe,capitaine,barril,ancien,commander,gign,«...</td>\n",
       "    </tr>\n",
       "    <tr>\n",
       "      <th>4</th>\n",
       "      <td>4</td>\n",
       "      <td>Sun Mar 18 14:32:39 +0000 2018</td>\n",
       "      <td>Dans la même semaine #Macron nomme le très amb...</td>\n",
       "      <td>Macron, Bellatar, ConseilDesVilles</td>\n",
       "      <td>positif</td>\n",
       "      <td>0.75</td>\n",
       "      <td>semaine,macron,nommer,très,ambigu,islamisme,be...</td>\n",
       "    </tr>\n",
       "  </tbody>\n",
       "</table>\n",
       "</div>"
      ],
      "text/plain": [
       "  num                            date  \\\n",
       "0   0  Sun Mar 18 13:45:13 +0000 2018   \n",
       "1   1  Sun Mar 18 15:47:19 +0000 2018   \n",
       "2   2  Sun Mar 18 11:48:32 +0000 2018   \n",
       "3   3  Sun Mar 18 15:41:24 +0000 2018   \n",
       "4   4  Sun Mar 18 14:32:39 +0000 2018   \n",
       "\n",
       "                                                text  \\\n",
       "0  Au lieu d'expulser des diplomates Russes il eu...   \n",
       "1  Selon l’ex Ambassadeur anglais en Ouzbékistan,...   \n",
       "2  @PhilipJ37 @EugenieBastie Tellement vrai.\\r\\nS...   \n",
       "3  BOMBE: Le capitaine Barril, ancien commandant ...   \n",
       "4  Dans la même semaine #Macron nomme le très amb...   \n",
       "\n",
       "                             hashtags sentiment  taux  \\\n",
       "0                          NO HASHTAG   positif  0.71   \n",
       "1                          NO HASHTAG   positif  0.70   \n",
       "2                          NO HASHTAG    neutre     0   \n",
       "3                          NO HASHTAG    neutre     0   \n",
       "4  Macron, Bellatar, ConseilDesVilles   positif  0.75   \n",
       "\n",
       "                                               words  \n",
       "0  lieu,expulser,diplomate,russe,plus,concret,plu...  \n",
       "1  selon,’,ex,ambassadeur,anglais,ouzbékistan,``,...  \n",
       "2  tellement,vrai,si,occuper,trump,poutin,être,te...  \n",
       "3  bombe,capitaine,barril,ancien,commander,gign,«...  \n",
       "4  semaine,macron,nommer,très,ambigu,islamisme,be...  "
      ]
     },
     "execution_count": 71,
     "metadata": {},
     "output_type": "execute_result"
    }
   ],
   "source": [
    "#Remplace les nan par NO HASHTAG\n",
    "tweets.hashtags.replace(np.nan, 'NO HASHTAG' ,inplace=True)\n",
    "tweets.head()"
   ]
  },
  {
   "cell_type": "code",
   "execution_count": 44,
   "metadata": {},
   "outputs": [],
   "source": [
    "# Export du df en CSV\n",
    "tweets.to_csv(\"tweetsAnalyse.csv\", index=False, encoding='utf-8')"
   ]
  },
  {
   "cell_type": "markdown",
   "metadata": {},
   "source": [
    "## Fonction de determination de polarite a partir d'un texte"
   ]
  },
  {
   "cell_type": "code",
   "execution_count": 45,
   "metadata": {},
   "outputs": [],
   "source": [
    "# The function polarity_feeling takes a string as entry and returns the text's feeling polarity: 'neutre', 'positif' or 'negatif'\n",
    "# and the rate in a list. \n",
    "def polarity_feeling(text: str):\n",
    "    # text to lower case \n",
    "    # delete punctuation\n",
    "    #text =re.sub('[!@#$:’).\";,?&%=>(<''©-]', '', str(text).lower())\n",
    "    # delete doubble whitespace\n",
    "    text = re.sub('  ', ' ', text)\n",
    "    # delete @, > and 'http'\n",
    "    text = \" \".join([word for word in text.split()\n",
    "                                if 'http' not in word and '@' not in word and '<' not in word])\n",
    "    # Tokenisation\n",
    "    text = word_tokenize(text)\n",
    "    text = filtration(text)\n",
    "\n",
    "    # Lemmatization\n",
    "    text = lemma(text)\n",
    "    # delete stopwords\n",
    "    text = filtration(text)\n",
    "    # define the feeling polarity \n",
    "    return calculpolarite(text)\n",
    "    \n",
    "    "
   ]
  },
  {
   "cell_type": "code",
   "execution_count": 46,
   "metadata": {},
   "outputs": [
    {
     "data": {
      "text/plain": [
       "['neutre', 0]"
      ]
     },
     "execution_count": 46,
     "metadata": {},
     "output_type": "execute_result"
    }
   ],
   "source": [
    "polarity_feeling('Vive l\\'administration française. Elle est belle!')"
   ]
  },
  {
   "cell_type": "code",
   "execution_count": 47,
   "metadata": {},
   "outputs": [
    {
     "data": {
      "text/html": [
       "<div>\n",
       "<style scoped>\n",
       "    .dataframe tbody tr th:only-of-type {\n",
       "        vertical-align: middle;\n",
       "    }\n",
       "\n",
       "    .dataframe tbody tr th {\n",
       "        vertical-align: top;\n",
       "    }\n",
       "\n",
       "    .dataframe thead th {\n",
       "        text-align: right;\n",
       "    }\n",
       "</style>\n",
       "<table border=\"1\" class=\"dataframe\">\n",
       "  <thead>\n",
       "    <tr style=\"text-align: right;\">\n",
       "      <th></th>\n",
       "      <th>num</th>\n",
       "      <th>date</th>\n",
       "      <th>text</th>\n",
       "      <th>hashtags</th>\n",
       "    </tr>\n",
       "  </thead>\n",
       "  <tbody>\n",
       "    <tr>\n",
       "      <th>0</th>\n",
       "      <td>0</td>\n",
       "      <td>Sun Mar 18 13:45:13 +0000 2018</td>\n",
       "      <td>Au lieu d'expulser des diplomates Russes il eu...</td>\n",
       "      <td>NaN</td>\n",
       "    </tr>\n",
       "    <tr>\n",
       "      <th>1</th>\n",
       "      <td>1</td>\n",
       "      <td>Sun Mar 18 15:47:19 +0000 2018</td>\n",
       "      <td>Selon l’ex Ambassadeur anglais en Ouzbékistan,...</td>\n",
       "      <td>NaN</td>\n",
       "    </tr>\n",
       "    <tr>\n",
       "      <th>2</th>\n",
       "      <td>2</td>\n",
       "      <td>Sun Mar 18 11:48:32 +0000 2018</td>\n",
       "      <td>@PhilipJ37 @EugenieBastie Tellement vrai.\\r\\nS...</td>\n",
       "      <td>NaN</td>\n",
       "    </tr>\n",
       "    <tr>\n",
       "      <th>3</th>\n",
       "      <td>3</td>\n",
       "      <td>Sun Mar 18 15:41:24 +0000 2018</td>\n",
       "      <td>BOMBE: Le capitaine Barril, ancien commandant ...</td>\n",
       "      <td>NaN</td>\n",
       "    </tr>\n",
       "    <tr>\n",
       "      <th>4</th>\n",
       "      <td>4</td>\n",
       "      <td>Sun Mar 18 14:32:39 +0000 2018</td>\n",
       "      <td>Dans la même semaine #Macron nomme le très amb...</td>\n",
       "      <td>['Macron', 'Bellatar', 'ConseilDesVilles']</td>\n",
       "    </tr>\n",
       "  </tbody>\n",
       "</table>\n",
       "</div>"
      ],
      "text/plain": [
       "  num                            date  \\\n",
       "0   0  Sun Mar 18 13:45:13 +0000 2018   \n",
       "1   1  Sun Mar 18 15:47:19 +0000 2018   \n",
       "2   2  Sun Mar 18 11:48:32 +0000 2018   \n",
       "3   3  Sun Mar 18 15:41:24 +0000 2018   \n",
       "4   4  Sun Mar 18 14:32:39 +0000 2018   \n",
       "\n",
       "                                                text  \\\n",
       "0  Au lieu d'expulser des diplomates Russes il eu...   \n",
       "1  Selon l’ex Ambassadeur anglais en Ouzbékistan,...   \n",
       "2  @PhilipJ37 @EugenieBastie Tellement vrai.\\r\\nS...   \n",
       "3  BOMBE: Le capitaine Barril, ancien commandant ...   \n",
       "4  Dans la même semaine #Macron nomme le très amb...   \n",
       "\n",
       "                                     hashtags  \n",
       "0                                         NaN  \n",
       "1                                         NaN  \n",
       "2                                         NaN  \n",
       "3                                         NaN  \n",
       "4  ['Macron', 'Bellatar', 'ConseilDesVilles']  "
      ]
     },
     "execution_count": 47,
     "metadata": {},
     "output_type": "execute_result"
    }
   ],
   "source": [
    "tw.head()"
   ]
  },
  {
   "cell_type": "code",
   "execution_count": 48,
   "metadata": {},
   "outputs": [],
   "source": [
    "_pol = tw[:5].text.apply(polarity_feeling)"
   ]
  },
  {
   "cell_type": "code",
   "execution_count": 49,
   "metadata": {},
   "outputs": [
    {
     "data": {
      "text/plain": [
       "0    [positif, 0.69]\n",
       "1    [positif, 0.57]\n",
       "2        [neutre, 0]\n",
       "3    [positif, 0.60]\n",
       "4    [positif, 0.75]\n",
       "Name: text, dtype: object"
      ]
     },
     "execution_count": 49,
     "metadata": {},
     "output_type": "execute_result"
    }
   ],
   "source": [
    "_pol"
   ]
  },
  {
   "cell_type": "markdown",
   "metadata": {},
   "source": [
    "<h2 align='center'>Frequence des mots utilises dans le corpus</h2>"
   ]
  },
  {
   "cell_type": "code",
   "execution_count": 128,
   "metadata": {},
   "outputs": [
    {
     "data": {
      "image/png": "[encoded data removed]",
      "text/plain": [
       "<Figure size 1080x576 with 1 Axes>"
      ]
     },
     "metadata": {
      "needs_background": "light"
     },
     "output_type": "display_data"
    }
   ],
   "source": [
    "def wordcloud(tweets,col):\n",
    "    stopW.extend(['avoir','être','si','faire','via','dire','aller','alors','comme','quel','donc','aussi'])\n",
    "    set(stopW)\n",
    "    wordcloud = WordCloud(background_color=\"white\",stopwords=stopW,random_state = 2016,max_words=50,width=480, height=480, margin=0).generate(\" \".join([i for i in tweets['words']]))\n",
    "    plt.figure( figsize=(15,8))\n",
    "    #plt.figure()\n",
    "    plt.imshow(wordcloud)\n",
    "    plt.axis(\"off\")\n",
    "    #plt.title(\"Tweets politiques\")\n",
    "    plt.margins(x=0, y=0)\n",
    "    plt.show()\n",
    "wordcloud(tweets,'text')  "
   ]
  }
 ],
 "metadata": {
  "kernelspec": {
   "display_name": "Python 3",
   "language": "python",
   "name": "python3"
  },
  "language_info": {
   "codemirror_mode": {
    "name": "ipython",
    "version": 3
   },
   "file_extension": ".py",
   "mimetype": "text/x-python",
   "name": "python",
   "nbconvert_exporter": "python",
   "pygments_lexer": "ipython3",
   "version": "3.7.0"
  }
 },
 "nbformat": 4,
 "nbformat_minor": 2
}

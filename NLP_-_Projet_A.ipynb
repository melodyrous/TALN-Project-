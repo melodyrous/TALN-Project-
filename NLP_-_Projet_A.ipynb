{
 "cells": [
  {
   "cell_type": "code",
   "execution_count": 1,
   "metadata": {},
   "outputs": [
    {
     "name": "stdout",
     "output_type": "stream",
     "text": [
      "[nltk_data] Downloading package punkt to\n",
      "[nltk_data]     C:\\Users\\Dell\\AppData\\Roaming\\nltk_data...\n",
      "[nltk_data]   Package punkt is already up-to-date!\n",
      "[nltk_data] Downloading package stopwords to\n",
      "[nltk_data]     C:\\Users\\Dell\\AppData\\Roaming\\nltk_data...\n",
      "[nltk_data]   Package stopwords is already up-to-date!\n",
      "[nltk_data] Downloading package wordnet to\n",
      "[nltk_data]     C:\\Users\\Dell\\AppData\\Roaming\\nltk_data...\n",
      "[nltk_data]   Package wordnet is already up-to-date!\n"
     ]
    },
    {
     "name": "stderr",
     "output_type": "stream",
     "text": [
      "C:\\Users\\Dell\\Anaconda3\\lib\\site-packages\\nltk\\twitter\\__init__.py:20: UserWarning: The twython library has not been installed. Some functionality from the twitter package will not be available.\n",
      "  warnings.warn(\"The twython library has not been installed. \"\n"
     ]
    }
   ],
   "source": [
    "import numpy as np\n",
    "import pandas as pd\n",
    "import string \n",
    "import nltk\n",
    "nltk.download('punkt')\n",
    "nltk.download('stopwords')\n",
    "nltk.download('wordnet')\n",
    "\n",
    "#systeme\n",
    "import sys\n",
    "sys.setrecursionlimit(200000)\n",
    "\n",
    "#nltk\n",
    "from nltk.stem import WordNetLemmatizer\n",
    "from nltk.sentiment.vader import SentimentIntensityAnalyzer\n",
    "from nltk.sentiment.util import *\n",
    "from nltk import word_tokenize\n",
    "from nltk.corpus import stopwords\n",
    "from nltk import ngrams\n",
    "\n",
    "#import warnings; warnings.simplefilter('ignore')\n",
    "\n",
    "import re\n",
    "\n",
    "#import spacy\n",
    "#from spacy_lefff import lefffLemmatizer\n",
    "\n",
    "from french_lefff_lemmatizer.french_lefff_lemmatizer import FrenchLefffLemmatizer\n",
    "\n",
    "import fr_core_news_sm\n",
    "nlp = fr_core_news_sm.load()\n",
    "\n",
    "#%load_ext Cython\n",
    "\n",
    "#wolf\n",
    "#from frenetic.packet import *\n",
    "#fwn = FreNetic(\"C:/Users/Utilisateur/Desktop/simplon/projetA1/wolf.xml\") "
   ]
  },
  {
   "cell_type": "markdown",
   "metadata": {},
   "source": [
    "<h1 align='center'> Traitement du langage naturel </h1>\n",
    "<h2 align='center'> Analyse lexicale de sentiment de tweets</h2>\n",
    "<br>\n",
    "<br>\n",
    "<hr>\n",
    "<h2 align='center'><strong>1ere Partie: </strong>Pre-processing</h2>"
   ]
  },
  {
   "cell_type": "markdown",
   "metadata": {},
   "source": [
    "### 1/ Import du csv"
   ]
  },
  {
   "cell_type": "code",
   "execution_count": 2,
   "metadata": {},
   "outputs": [],
   "source": [
    "get_ipython().config.get('IPKernelApp', {})['parent_appname'] = \"\""
   ]
  },
  {
   "cell_type": "code",
   "execution_count": 3,
   "metadata": {},
   "outputs": [],
   "source": [
    "tweets = pd.read_csv(\"./french-tweets-politique/tweets_unique.csv\")"
   ]
  },
  {
   "cell_type": "code",
   "execution_count": 4,
   "metadata": {},
   "outputs": [
    {
     "data": {
      "text/html": [
       "<div>\n",
       "<style scoped>\n",
       "    .dataframe tbody tr th:only-of-type {\n",
       "        vertical-align: middle;\n",
       "    }\n",
       "\n",
       "    .dataframe tbody tr th {\n",
       "        vertical-align: top;\n",
       "    }\n",
       "\n",
       "    .dataframe thead th {\n",
       "        text-align: right;\n",
       "    }\n",
       "</style>\n",
       "<table border=\"1\" class=\"dataframe\">\n",
       "  <thead>\n",
       "    <tr style=\"text-align: right;\">\n",
       "      <th></th>\n",
       "      <th>Unnamed: 0</th>\n",
       "      <th>date</th>\n",
       "      <th>text</th>\n",
       "      <th>hashtags</th>\n",
       "    </tr>\n",
       "  </thead>\n",
       "  <tbody>\n",
       "    <tr>\n",
       "      <th>0</th>\n",
       "      <td>0</td>\n",
       "      <td>Sun Mar 18 13:45:13 +0000 2018</td>\n",
       "      <td>Au lieu d'expulser des diplomates Russes il eu...</td>\n",
       "      <td>NaN</td>\n",
       "    </tr>\n",
       "    <tr>\n",
       "      <th>1</th>\n",
       "      <td>1</td>\n",
       "      <td>Sun Mar 18 15:47:19 +0000 2018</td>\n",
       "      <td>Selon l’ex Ambassadeur anglais en Ouzbékistan,...</td>\n",
       "      <td>NaN</td>\n",
       "    </tr>\n",
       "    <tr>\n",
       "      <th>2</th>\n",
       "      <td>2</td>\n",
       "      <td>Sun Mar 18 11:48:32 +0000 2018</td>\n",
       "      <td>@PhilipJ37 @EugenieBastie Tellement vrai.\\r\\nS...</td>\n",
       "      <td>NaN</td>\n",
       "    </tr>\n",
       "    <tr>\n",
       "      <th>3</th>\n",
       "      <td>3</td>\n",
       "      <td>Sun Mar 18 15:41:24 +0000 2018</td>\n",
       "      <td>BOMBE: Le capitaine Barril, ancien commandant ...</td>\n",
       "      <td>NaN</td>\n",
       "    </tr>\n",
       "    <tr>\n",
       "      <th>4</th>\n",
       "      <td>4</td>\n",
       "      <td>Sun Mar 18 14:32:39 +0000 2018</td>\n",
       "      <td>Dans la même semaine #Macron nomme le très amb...</td>\n",
       "      <td>['Macron', 'Bellatar', 'ConseilDesVilles']</td>\n",
       "    </tr>\n",
       "  </tbody>\n",
       "</table>\n",
       "</div>"
      ],
      "text/plain": [
       "  Unnamed: 0                            date  \\\n",
       "0          0  Sun Mar 18 13:45:13 +0000 2018   \n",
       "1          1  Sun Mar 18 15:47:19 +0000 2018   \n",
       "2          2  Sun Mar 18 11:48:32 +0000 2018   \n",
       "3          3  Sun Mar 18 15:41:24 +0000 2018   \n",
       "4          4  Sun Mar 18 14:32:39 +0000 2018   \n",
       "\n",
       "                                                text  \\\n",
       "0  Au lieu d'expulser des diplomates Russes il eu...   \n",
       "1  Selon l’ex Ambassadeur anglais en Ouzbékistan,...   \n",
       "2  @PhilipJ37 @EugenieBastie Tellement vrai.\\r\\nS...   \n",
       "3  BOMBE: Le capitaine Barril, ancien commandant ...   \n",
       "4  Dans la même semaine #Macron nomme le très amb...   \n",
       "\n",
       "                                     hashtags  \n",
       "0                                         NaN  \n",
       "1                                         NaN  \n",
       "2                                         NaN  \n",
       "3                                         NaN  \n",
       "4  ['Macron', 'Bellatar', 'ConseilDesVilles']  "
      ]
     },
     "execution_count": 4,
     "metadata": {},
     "output_type": "execute_result"
    }
   ],
   "source": [
    "tweets.head()"
   ]
  },
  {
   "cell_type": "code",
   "execution_count": 5,
   "metadata": {},
   "outputs": [],
   "source": [
    "tweets.rename(columns={'Unnamed: 0':'num'}, inplace=True)"
   ]
  },
  {
   "cell_type": "code",
   "execution_count": 6,
   "metadata": {},
   "outputs": [
    {
     "data": {
      "text/html": [
       "<div>\n",
       "<style scoped>\n",
       "    .dataframe tbody tr th:only-of-type {\n",
       "        vertical-align: middle;\n",
       "    }\n",
       "\n",
       "    .dataframe tbody tr th {\n",
       "        vertical-align: top;\n",
       "    }\n",
       "\n",
       "    .dataframe thead th {\n",
       "        text-align: right;\n",
       "    }\n",
       "</style>\n",
       "<table border=\"1\" class=\"dataframe\">\n",
       "  <thead>\n",
       "    <tr style=\"text-align: right;\">\n",
       "      <th></th>\n",
       "      <th>num</th>\n",
       "      <th>date</th>\n",
       "      <th>text</th>\n",
       "      <th>hashtags</th>\n",
       "    </tr>\n",
       "  </thead>\n",
       "  <tbody>\n",
       "    <tr>\n",
       "      <th>0</th>\n",
       "      <td>0</td>\n",
       "      <td>Sun Mar 18 13:45:13 +0000 2018</td>\n",
       "      <td>Au lieu d'expulser des diplomates Russes il eu...</td>\n",
       "      <td>NaN</td>\n",
       "    </tr>\n",
       "    <tr>\n",
       "      <th>1</th>\n",
       "      <td>1</td>\n",
       "      <td>Sun Mar 18 15:47:19 +0000 2018</td>\n",
       "      <td>Selon l’ex Ambassadeur anglais en Ouzbékistan,...</td>\n",
       "      <td>NaN</td>\n",
       "    </tr>\n",
       "    <tr>\n",
       "      <th>2</th>\n",
       "      <td>2</td>\n",
       "      <td>Sun Mar 18 11:48:32 +0000 2018</td>\n",
       "      <td>@PhilipJ37 @EugenieBastie Tellement vrai.\\r\\nS...</td>\n",
       "      <td>NaN</td>\n",
       "    </tr>\n",
       "    <tr>\n",
       "      <th>3</th>\n",
       "      <td>3</td>\n",
       "      <td>Sun Mar 18 15:41:24 +0000 2018</td>\n",
       "      <td>BOMBE: Le capitaine Barril, ancien commandant ...</td>\n",
       "      <td>NaN</td>\n",
       "    </tr>\n",
       "    <tr>\n",
       "      <th>4</th>\n",
       "      <td>4</td>\n",
       "      <td>Sun Mar 18 14:32:39 +0000 2018</td>\n",
       "      <td>Dans la même semaine #Macron nomme le très amb...</td>\n",
       "      <td>['Macron', 'Bellatar', 'ConseilDesVilles']</td>\n",
       "    </tr>\n",
       "  </tbody>\n",
       "</table>\n",
       "</div>"
      ],
      "text/plain": [
       "  num                            date  \\\n",
       "0   0  Sun Mar 18 13:45:13 +0000 2018   \n",
       "1   1  Sun Mar 18 15:47:19 +0000 2018   \n",
       "2   2  Sun Mar 18 11:48:32 +0000 2018   \n",
       "3   3  Sun Mar 18 15:41:24 +0000 2018   \n",
       "4   4  Sun Mar 18 14:32:39 +0000 2018   \n",
       "\n",
       "                                                text  \\\n",
       "0  Au lieu d'expulser des diplomates Russes il eu...   \n",
       "1  Selon l’ex Ambassadeur anglais en Ouzbékistan,...   \n",
       "2  @PhilipJ37 @EugenieBastie Tellement vrai.\\r\\nS...   \n",
       "3  BOMBE: Le capitaine Barril, ancien commandant ...   \n",
       "4  Dans la même semaine #Macron nomme le très amb...   \n",
       "\n",
       "                                     hashtags  \n",
       "0                                         NaN  \n",
       "1                                         NaN  \n",
       "2                                         NaN  \n",
       "3                                         NaN  \n",
       "4  ['Macron', 'Bellatar', 'ConseilDesVilles']  "
      ]
     },
     "execution_count": 6,
     "metadata": {},
     "output_type": "execute_result"
    }
   ],
   "source": [
    "tweets.head()"
   ]
  },
  {
   "cell_type": "code",
   "execution_count": 7,
   "metadata": {},
   "outputs": [],
   "source": [
    "tw = tweets.copy()"
   ]
  },
  {
   "cell_type": "markdown",
   "metadata": {},
   "source": [
    "### 2/ Normalisation du texte"
   ]
  },
  {
   "cell_type": "code",
   "execution_count": 8,
   "metadata": {},
   "outputs": [
    {
     "data": {
      "text/html": [
       "<div>\n",
       "<style scoped>\n",
       "    .dataframe tbody tr th:only-of-type {\n",
       "        vertical-align: middle;\n",
       "    }\n",
       "\n",
       "    .dataframe tbody tr th {\n",
       "        vertical-align: top;\n",
       "    }\n",
       "\n",
       "    .dataframe thead th {\n",
       "        text-align: right;\n",
       "    }\n",
       "</style>\n",
       "<table border=\"1\" class=\"dataframe\">\n",
       "  <thead>\n",
       "    <tr style=\"text-align: right;\">\n",
       "      <th></th>\n",
       "      <th>num</th>\n",
       "      <th>date</th>\n",
       "      <th>text</th>\n",
       "      <th>hashtags</th>\n",
       "    </tr>\n",
       "  </thead>\n",
       "  <tbody>\n",
       "    <tr>\n",
       "      <th>0</th>\n",
       "      <td>0</td>\n",
       "      <td>Sun Mar 18 13:45:13 +0000 2018</td>\n",
       "      <td>au lieu d'expulser des diplomates russes il eu...</td>\n",
       "      <td>NaN</td>\n",
       "    </tr>\n",
       "    <tr>\n",
       "      <th>1</th>\n",
       "      <td>1</td>\n",
       "      <td>Sun Mar 18 15:47:19 +0000 2018</td>\n",
       "      <td>selon l’ex ambassadeur anglais en ouzbékistan,...</td>\n",
       "      <td>NaN</td>\n",
       "    </tr>\n",
       "    <tr>\n",
       "      <th>2</th>\n",
       "      <td>2</td>\n",
       "      <td>Sun Mar 18 11:48:32 +0000 2018</td>\n",
       "      <td>@philipj37 @eugeniebastie tellement vrai.\\r\\ns...</td>\n",
       "      <td>NaN</td>\n",
       "    </tr>\n",
       "    <tr>\n",
       "      <th>3</th>\n",
       "      <td>3</td>\n",
       "      <td>Sun Mar 18 15:41:24 +0000 2018</td>\n",
       "      <td>bombe: le capitaine barril, ancien commandant ...</td>\n",
       "      <td>NaN</td>\n",
       "    </tr>\n",
       "    <tr>\n",
       "      <th>4</th>\n",
       "      <td>4</td>\n",
       "      <td>Sun Mar 18 14:32:39 +0000 2018</td>\n",
       "      <td>dans la même semaine #macron nomme le très amb...</td>\n",
       "      <td>['Macron', 'Bellatar', 'ConseilDesVilles']</td>\n",
       "    </tr>\n",
       "  </tbody>\n",
       "</table>\n",
       "</div>"
      ],
      "text/plain": [
       "  num                            date  \\\n",
       "0   0  Sun Mar 18 13:45:13 +0000 2018   \n",
       "1   1  Sun Mar 18 15:47:19 +0000 2018   \n",
       "2   2  Sun Mar 18 11:48:32 +0000 2018   \n",
       "3   3  Sun Mar 18 15:41:24 +0000 2018   \n",
       "4   4  Sun Mar 18 14:32:39 +0000 2018   \n",
       "\n",
       "                                                text  \\\n",
       "0  au lieu d'expulser des diplomates russes il eu...   \n",
       "1  selon l’ex ambassadeur anglais en ouzbékistan,...   \n",
       "2  @philipj37 @eugeniebastie tellement vrai.\\r\\ns...   \n",
       "3  bombe: le capitaine barril, ancien commandant ...   \n",
       "4  dans la même semaine #macron nomme le très amb...   \n",
       "\n",
       "                                     hashtags  \n",
       "0                                         NaN  \n",
       "1                                         NaN  \n",
       "2                                         NaN  \n",
       "3                                         NaN  \n",
       "4  ['Macron', 'Bellatar', 'ConseilDesVilles']  "
      ]
     },
     "execution_count": 8,
     "metadata": {},
     "output_type": "execute_result"
    }
   ],
   "source": [
    "low = lambda x: str(x).lower()\n",
    "tweets['text'] = tweets.text.apply(low)\n",
    "tweets.head()"
   ]
  },
  {
   "cell_type": "markdown",
   "metadata": {},
   "source": [
    "### 3/ Supression des caracteres speciaux et double espaces"
   ]
  },
  {
   "cell_type": "code",
   "execution_count": 9,
   "metadata": {},
   "outputs": [
    {
     "data": {
      "text/plain": [
       "0    au lieu d'expulser des diplomates russes il eu...\n",
       "1    selon lex ambassadeur anglais en ouzbékistan l...\n",
       "2    philipj37 eugeniebastie tellement vrai\\r\\ns'oc...\n",
       "3    bombe le capitaine barril ancien commandant du...\n",
       "4    dans la même semaine macron nomme le très ambi...\n",
       "Name: text, dtype: object"
      ]
     },
     "execution_count": 9,
     "metadata": {},
     "output_type": "execute_result"
    }
   ],
   "source": [
    "tweets['text'] = tweets['text'].apply(lambda x: re.sub('[!@#$:’).\";,?&%=>(<''©-]', '', x.lower()))\n",
    "tweets['text'] = tweets['text'].apply(lambda x: re.sub('  ', ' ', x))\n",
    "tweets['text'].head()"
   ]
  },
  {
   "cell_type": "code",
   "execution_count": 10,
   "metadata": {},
   "outputs": [
    {
     "data": {
      "text/plain": [
       "0    au lieu d'expulser des diplomates russes il eu...\n",
       "1    selon lex ambassadeur anglais en ouzbékistan l...\n",
       "2    philipj37 eugeniebastie tellement vrai s'occup...\n",
       "3    bombe le capitaine barril ancien commandant du...\n",
       "4    dans la même semaine macron nomme le très ambi...\n",
       "Name: text, dtype: object"
      ]
     },
     "execution_count": 10,
     "metadata": {},
     "output_type": "execute_result"
    }
   ],
   "source": [
    "for i in range(len(tweets['text'])):\n",
    "    tweets['text'][i] = \" \".join([word for word in tweets['text'][i].split()\n",
    "                                if 'http' not in word and '@' not in word and '<' not in word])\n",
    "tweets['text'].head()"
   ]
  },
  {
   "cell_type": "markdown",
   "metadata": {},
   "source": [
    "### 4/ Tokénisation"
   ]
  },
  {
   "cell_type": "code",
   "execution_count": 11,
   "metadata": {},
   "outputs": [
    {
     "data": {
      "text/plain": [
       "num         object\n",
       "date        object\n",
       "text        object\n",
       "hashtags    object\n",
       "dtype: object"
      ]
     },
     "execution_count": 11,
     "metadata": {},
     "output_type": "execute_result"
    }
   ],
   "source": [
    "tweets.dtypes"
   ]
  },
  {
   "cell_type": "code",
   "execution_count": 12,
   "metadata": {},
   "outputs": [
    {
     "data": {
      "text/plain": [
       "0    au lieu d'expulser des diplomates russes il eu...\n",
       "1    selon lex ambassadeur anglais en ouzbékistan l...\n",
       "2    philipj37 eugeniebastie tellement vrai s'occup...\n",
       "3    bombe le capitaine barril ancien commandant du...\n",
       "4    dans la même semaine macron nomme le très ambi...\n",
       "Name: text, dtype: object"
      ]
     },
     "execution_count": 12,
     "metadata": {},
     "output_type": "execute_result"
    }
   ],
   "source": [
    "tweets['text'].astype('str', inplace=True).head()"
   ]
  },
  {
   "cell_type": "code",
   "execution_count": 13,
   "metadata": {},
   "outputs": [
    {
     "data": {
      "text/plain": [
       "0    [au, lieu, d'expulser, des, diplomates, russes...\n",
       "1    [selon, lex, ambassadeur, anglais, en, ouzbéki...\n",
       "2    [philipj37, eugeniebastie, tellement, vrai, s'...\n",
       "3    [bombe, le, capitaine, barril, ancien, command...\n",
       "4    [dans, la, même, semaine, macron, nomme, le, t...\n",
       "Name: text, dtype: object"
      ]
     },
     "execution_count": 13,
     "metadata": {},
     "output_type": "execute_result"
    }
   ],
   "source": [
    "clean = lambda tx: word_tokenize(tx)\n",
    "tweets.text = tweets.text.apply(clean)\n",
    "tweets.text.head()"
   ]
  },
  {
   "cell_type": "markdown",
   "metadata": {},
   "source": [
    "### 5/ Stop-Words"
   ]
  },
  {
   "cell_type": "code",
   "execution_count": 14,
   "metadata": {},
   "outputs": [
    {
     "data": {
      "text/plain": [
       "\"au lieu d'expulser des diplomates russes il eut été plus concrets et plus pragmatiques de s'occuper des ressortissants info pakistanais présumés responsables de milliers de viols d'enfants à telford mme may a opté pour la facilité face à une monstruosité ethnique\""
      ]
     },
     "execution_count": 14,
     "metadata": {},
     "output_type": "execute_result"
    }
   ],
   "source": [
    "stopW = stopwords.words('french')\n",
    "#print(stopW)\n",
    "filtered_sentence = [w for w in tweets['text'] if not w in stopW] \n",
    "# remove URLs, RTs, and twitter handles\n",
    "for i in range(len(filtered_sentence)):\n",
    "    filtered_sentence[i] =\" \".join([word for word in filtered_sentence[i]\n",
    "                               if 'http' not in word  and '<' not in word])\n",
    "filtered_sentence[0]"
   ]
  },
  {
   "cell_type": "code",
   "execution_count": 15,
   "metadata": {},
   "outputs": [],
   "source": [
    "def filtration(tk: list ):#texte tokenisé sous format de liste\n",
    "    l_filtree = []\n",
    "    for word in tk:\n",
    "        if word not in stopW:\n",
    "            l_filtree.append(word)\n",
    "    return l_filtree"
   ]
  },
  {
   "cell_type": "code",
   "execution_count": 16,
   "metadata": {},
   "outputs": [
    {
     "data": {
      "text/plain": [
       "0    [lieu, d'expulser, diplomates, russes, plus, c...\n",
       "1    [selon, lex, ambassadeur, anglais, ouzbékistan...\n",
       "2    [philipj37, eugeniebastie, tellement, vrai, s'...\n",
       "3    [bombe, capitaine, barril, ancien, commandant,...\n",
       "4    [semaine, macron, nomme, très, ambigu, l'islam...\n",
       "Name: text, dtype: object"
      ]
     },
     "execution_count": 16,
     "metadata": {},
     "output_type": "execute_result"
    }
   ],
   "source": [
    "filtered_sentence = tweets['text'].apply(filtration)\n",
    "filtered_sentence.head()"
   ]
  },
  {
   "cell_type": "markdown",
   "metadata": {},
   "source": [
    "\n",
    "### 6/ Lemmatisation"
   ]
  },
  {
   "cell_type": "code",
   "execution_count": 17,
   "metadata": {},
   "outputs": [],
   "source": [
    "#fonction de lemmatisation\n",
    "def lemma(l:list):\n",
    "    new_l = ''\n",
    "    for word in l:\n",
    "        new_l += ' '+word\n",
    "    # strip retire les espaces au debut et a la fin de la chaine de caractere\n",
    "    new_l = new_l.strip()\n",
    "    n = nlp(new_l)\n",
    "    # boucle sur n et applique la fonction lemma_ sur chacun des tokens\n",
    "    x = []\n",
    "    for z in n:\n",
    "        x.append(z.lemma_)\n",
    "    return x"
   ]
  },
  {
   "cell_type": "code",
   "execution_count": 18,
   "metadata": {},
   "outputs": [],
   "source": [
    "tweetslemma = filtered_sentence.apply(lemma)"
   ]
  },
  {
   "cell_type": "code",
   "execution_count": 19,
   "metadata": {},
   "outputs": [
    {
     "data": {
      "text/plain": [
       "0    [lieu, de, expulser, diplomate, russe, plus, c...\n",
       "1    [selon, lex, ambassadeur, anglais, ouzbékistan...\n",
       "2    [philipj37, eugeniebastie, tellement, vrai, si...\n",
       "3    [bombe, capitaine, barril, ancien, commander, ...\n",
       "4    [semaine, macron, nommer, très, ambigu, le, is...\n",
       "Name: text, dtype: object"
      ]
     },
     "execution_count": 19,
     "metadata": {},
     "output_type": "execute_result"
    }
   ],
   "source": [
    "tweetslemma.head()"
   ]
  },
  {
   "cell_type": "code",
   "execution_count": 20,
   "metadata": {},
   "outputs": [],
   "source": [
    "tweetslemma = tweetslemma.apply(filtration)"
   ]
  },
  {
   "cell_type": "markdown",
   "metadata": {},
   "source": [
    "<br>\n",
    "<br>\n",
    "<hr>\n",
    "<h2 align='center'><b>2eme Partie: </b>Attribution d'un taux de polarite de sentiment</h2>"
   ]
  },
  {
   "cell_type": "markdown",
   "metadata": {},
   "source": [
    "### 1/ Agregation des donnees"
   ]
  },
  {
   "cell_type": "code",
   "execution_count": 21,
   "metadata": {},
   "outputs": [],
   "source": [
    "get_ipython().config.get('IPKernelApp', {})['parent_appname'] = \"\""
   ]
  },
  {
   "cell_type": "code",
   "execution_count": 22,
   "metadata": {},
   "outputs": [],
   "source": [
    "pol = pd.read_csv(\"./mots.csv\", sep=\",\", encoding = \"ISO-8859-1\", error_bad_lines=False)"
   ]
  },
  {
   "cell_type": "code",
   "execution_count": 23,
   "metadata": {},
   "outputs": [],
   "source": [
    "#Transformer le df pol en deux listes\n",
    "pP = pol[pol['polarity']=='positive'].word.values\n",
    "pN = pol[pol['polarity']=='negative'].word.values"
   ]
  },
  {
   "cell_type": "code",
   "execution_count": 24,
   "metadata": {},
   "outputs": [],
   "source": [
    "pN = [w.strip() for w in pN]"
   ]
  },
  {
   "cell_type": "markdown",
   "metadata": {},
   "source": [
    "### 2/ Fonction de calcul des polarite"
   ]
  },
  {
   "cell_type": "code",
   "execution_count": 25,
   "metadata": {},
   "outputs": [],
   "source": [
    "def calculpolarite(text: str):\n",
    "    scoreP = [True for word in text if word in pP].count(True)\n",
    "    scoreN = [True for word in text if word in pN].count(True)\n",
    "    if(scoreP>scoreN):\n",
    "        p = 'positif'\n",
    "        s = \"{0:.2f}\".format(scoreP/(scoreN+scoreP))\n",
    "    elif(scoreP==scoreN):\n",
    "        p= 'neutre'\n",
    "        s=0\n",
    "    else:\n",
    "        p= 'negatif' \n",
    "        s =\"{0:.2f}\".format(scoreN/(scoreN+scoreP))\n",
    "    return [p,s]"
   ]
  },
  {
   "cell_type": "code",
   "execution_count": 26,
   "metadata": {},
   "outputs": [],
   "source": [
    "# test pour nouvelle fonction\n",
    "rs =list(tweetslemma[:5].apply(calculpolarite))"
   ]
  },
  {
   "cell_type": "code",
   "execution_count": 27,
   "metadata": {},
   "outputs": [
    {
     "data": {
      "text/plain": [
       "array(['0.83', '1.00', '1.00', '0', '1.00'], dtype='<U7')"
      ]
     },
     "execution_count": 27,
     "metadata": {},
     "output_type": "execute_result"
    }
   ],
   "source": [
    "# Suite test\n",
    "rs = np.array(rs)\n",
    "rs[:,1]"
   ]
  },
  {
   "cell_type": "code",
   "execution_count": 28,
   "metadata": {},
   "outputs": [],
   "source": [
    "polarite = list(tweetslemma.apply(calculpolarite))\n",
    "polarite = np.array(polarite)"
   ]
  },
  {
   "cell_type": "code",
   "execution_count": 29,
   "metadata": {},
   "outputs": [
    {
     "data": {
      "text/html": [
       "<div>\n",
       "<style scoped>\n",
       "    .dataframe tbody tr th:only-of-type {\n",
       "        vertical-align: middle;\n",
       "    }\n",
       "\n",
       "    .dataframe tbody tr th {\n",
       "        vertical-align: top;\n",
       "    }\n",
       "\n",
       "    .dataframe thead th {\n",
       "        text-align: right;\n",
       "    }\n",
       "</style>\n",
       "<table border=\"1\" class=\"dataframe\">\n",
       "  <thead>\n",
       "    <tr style=\"text-align: right;\">\n",
       "      <th></th>\n",
       "      <th>num</th>\n",
       "      <th>date</th>\n",
       "      <th>text</th>\n",
       "      <th>hashtags</th>\n",
       "      <th>sentiment</th>\n",
       "      <th>taux</th>\n",
       "    </tr>\n",
       "  </thead>\n",
       "  <tbody>\n",
       "    <tr>\n",
       "      <th>0</th>\n",
       "      <td>0</td>\n",
       "      <td>Sun Mar 18 13:45:13 +0000 2018</td>\n",
       "      <td>[au, lieu, d'expulser, des, diplomates, russes...</td>\n",
       "      <td>NaN</td>\n",
       "      <td>positif</td>\n",
       "      <td>0.83</td>\n",
       "    </tr>\n",
       "    <tr>\n",
       "      <th>1</th>\n",
       "      <td>1</td>\n",
       "      <td>Sun Mar 18 15:47:19 +0000 2018</td>\n",
       "      <td>[selon, lex, ambassadeur, anglais, en, ouzbéki...</td>\n",
       "      <td>NaN</td>\n",
       "      <td>positif</td>\n",
       "      <td>1.00</td>\n",
       "    </tr>\n",
       "    <tr>\n",
       "      <th>2</th>\n",
       "      <td>2</td>\n",
       "      <td>Sun Mar 18 11:48:32 +0000 2018</td>\n",
       "      <td>[philipj37, eugeniebastie, tellement, vrai, s'...</td>\n",
       "      <td>NaN</td>\n",
       "      <td>positif</td>\n",
       "      <td>1.00</td>\n",
       "    </tr>\n",
       "    <tr>\n",
       "      <th>3</th>\n",
       "      <td>3</td>\n",
       "      <td>Sun Mar 18 15:41:24 +0000 2018</td>\n",
       "      <td>[bombe, le, capitaine, barril, ancien, command...</td>\n",
       "      <td>NaN</td>\n",
       "      <td>neutre</td>\n",
       "      <td>0</td>\n",
       "    </tr>\n",
       "    <tr>\n",
       "      <th>4</th>\n",
       "      <td>4</td>\n",
       "      <td>Sun Mar 18 14:32:39 +0000 2018</td>\n",
       "      <td>[dans, la, même, semaine, macron, nomme, le, t...</td>\n",
       "      <td>['Macron', 'Bellatar', 'ConseilDesVilles']</td>\n",
       "      <td>positif</td>\n",
       "      <td>1.00</td>\n",
       "    </tr>\n",
       "  </tbody>\n",
       "</table>\n",
       "</div>"
      ],
      "text/plain": [
       "  num                            date  \\\n",
       "0   0  Sun Mar 18 13:45:13 +0000 2018   \n",
       "1   1  Sun Mar 18 15:47:19 +0000 2018   \n",
       "2   2  Sun Mar 18 11:48:32 +0000 2018   \n",
       "3   3  Sun Mar 18 15:41:24 +0000 2018   \n",
       "4   4  Sun Mar 18 14:32:39 +0000 2018   \n",
       "\n",
       "                                                text  \\\n",
       "0  [au, lieu, d'expulser, des, diplomates, russes...   \n",
       "1  [selon, lex, ambassadeur, anglais, en, ouzbéki...   \n",
       "2  [philipj37, eugeniebastie, tellement, vrai, s'...   \n",
       "3  [bombe, le, capitaine, barril, ancien, command...   \n",
       "4  [dans, la, même, semaine, macron, nomme, le, t...   \n",
       "\n",
       "                                     hashtags sentiment  taux  \n",
       "0                                         NaN   positif  0.83  \n",
       "1                                         NaN   positif  1.00  \n",
       "2                                         NaN   positif  1.00  \n",
       "3                                         NaN    neutre     0  \n",
       "4  ['Macron', 'Bellatar', 'ConseilDesVilles']   positif  1.00  "
      ]
     },
     "execution_count": 29,
     "metadata": {},
     "output_type": "execute_result"
    }
   ],
   "source": [
    "tweets['sentiment'] = polarite[:,0]\n",
    "tweets['taux']= polarite[:,1]\n",
    "tweets.head()"
   ]
  },
  {
   "cell_type": "code",
   "execution_count": 30,
   "metadata": {},
   "outputs": [],
   "source": [
    "# from collections import Counter\n",
    "\n",
    "# def evaltweet(s:list):\n",
    "#     pola = [' '.join(pol[pol.word == e].polarity) for e in s]\n",
    "#     pola = Counter(pola)\n",
    "#     polap = pola.get('positive', 0)\n",
    "#     polan = pola.get('negative', 0)\n",
    "#     return '¯\\\\_(ツ)_/¯' if (polap + polan) == 0 else {'positif':polap / (polap + polan), 'negatif':polan / (polap + polan)}"
   ]
  },
  {
   "cell_type": "code",
   "execution_count": 31,
   "metadata": {},
   "outputs": [],
   "source": [
    "# def evaltweet2(s:list):\n",
    "#     pola = [' '.join(pol[pol.word == e].polarity) for e in s]\n",
    "#     pola = Counter(pola)\n",
    "#     polap = pola.get('positive', 0)\n",
    "#     polan = pola.get('negative', 0)\n",
    "#     if (polap == polan):\n",
    "#         p = 'neutre'\n",
    "#     elif (polap>polan):\n",
    "#         p= 'positif'\n",
    "#     else:\n",
    "#         p= 'negatif'\n",
    "#     return p"
   ]
  },
  {
   "cell_type": "code",
   "execution_count": 32,
   "metadata": {},
   "outputs": [],
   "source": [
    "# def help_apply():\n",
    "#     # de 0 a 7328, boucler tous les 1000\n",
    "#     deb = 0\n",
    "#     fin = 500\n",
    "#     polarite = []\n",
    "#     for i in range(16):\n",
    "#         polarite.append(tweetslemma[deb:fin].apply(evaltweet2))\n",
    "#         deb += 500\n",
    "#         fin += 500\n",
    "#         if(fin>7328):\n",
    "#             fin = 7328\n",
    "#     return polarite"
   ]
  },
  {
   "cell_type": "code",
   "execution_count": 33,
   "metadata": {},
   "outputs": [],
   "source": [
    "# tweets['processed_text'] = tweetslemma\n",
    "# tweets.head()"
   ]
  },
  {
   "cell_type": "code",
   "execution_count": 34,
   "metadata": {},
   "outputs": [
    {
     "data": {
      "text/plain": [
       "(7327,)"
      ]
     },
     "execution_count": 34,
     "metadata": {},
     "output_type": "execute_result"
    }
   ],
   "source": [
    "tweetslemma.shape"
   ]
  },
  {
   "cell_type": "markdown",
   "metadata": {},
   "source": [
    "## Preparation des donnees pour l'export"
   ]
  },
  {
   "cell_type": "code",
   "execution_count": 35,
   "metadata": {},
   "outputs": [],
   "source": [
    "# for i in pol.word:\n",
    "#     if (tweets.text[0].find(i)) != -1:\n",
    "#         print(\"Ce tweet contient [\" + i + \"] avec la polarité: \" + pol.polarity)"
   ]
  },
  {
   "cell_type": "code",
   "execution_count": 36,
   "metadata": {},
   "outputs": [],
   "source": [
    "tweets.hashtags.replace(\"[][']\", '', regex=True, inplace=True)"
   ]
  },
  {
   "cell_type": "code",
   "execution_count": 37,
   "metadata": {},
   "outputs": [],
   "source": [
    "textjoin = lambda l : ','.join([w for w in l])\n",
    "t = tweetslemma.apply(textjoin)\n",
    "tweets['words'] = t"
   ]
  },
  {
   "cell_type": "code",
   "execution_count": 38,
   "metadata": {},
   "outputs": [
    {
     "data": {
      "text/html": [
       "<div>\n",
       "<style scoped>\n",
       "    .dataframe tbody tr th:only-of-type {\n",
       "        vertical-align: middle;\n",
       "    }\n",
       "\n",
       "    .dataframe tbody tr th {\n",
       "        vertical-align: top;\n",
       "    }\n",
       "\n",
       "    .dataframe thead th {\n",
       "        text-align: right;\n",
       "    }\n",
       "</style>\n",
       "<table border=\"1\" class=\"dataframe\">\n",
       "  <thead>\n",
       "    <tr style=\"text-align: right;\">\n",
       "      <th></th>\n",
       "      <th>num</th>\n",
       "      <th>date</th>\n",
       "      <th>text</th>\n",
       "      <th>hashtags</th>\n",
       "      <th>sentiment</th>\n",
       "      <th>taux</th>\n",
       "      <th>words</th>\n",
       "    </tr>\n",
       "  </thead>\n",
       "  <tbody>\n",
       "    <tr>\n",
       "      <th>0</th>\n",
       "      <td>0</td>\n",
       "      <td>Sun Mar 18 13:45:13 +0000 2018</td>\n",
       "      <td>[au, lieu, d'expulser, des, diplomates, russes...</td>\n",
       "      <td>NaN</td>\n",
       "      <td>positif</td>\n",
       "      <td>0.83</td>\n",
       "      <td>lieu,expulser,diplomate,russe,plus,concret,plu...</td>\n",
       "    </tr>\n",
       "    <tr>\n",
       "      <th>1</th>\n",
       "      <td>1</td>\n",
       "      <td>Sun Mar 18 15:47:19 +0000 2018</td>\n",
       "      <td>[selon, lex, ambassadeur, anglais, en, ouzbéki...</td>\n",
       "      <td>NaN</td>\n",
       "      <td>positif</td>\n",
       "      <td>1.00</td>\n",
       "      <td>selon,lex,ambassadeur,anglais,ouzbékistan,``,n...</td>\n",
       "    </tr>\n",
       "    <tr>\n",
       "      <th>2</th>\n",
       "      <td>2</td>\n",
       "      <td>Sun Mar 18 11:48:32 +0000 2018</td>\n",
       "      <td>[philipj37, eugeniebastie, tellement, vrai, s'...</td>\n",
       "      <td>NaN</td>\n",
       "      <td>positif</td>\n",
       "      <td>1.00</td>\n",
       "      <td>philipj37,eugeniebastie,tellement,vrai,si,occu...</td>\n",
       "    </tr>\n",
       "    <tr>\n",
       "      <th>3</th>\n",
       "      <td>3</td>\n",
       "      <td>Sun Mar 18 15:41:24 +0000 2018</td>\n",
       "      <td>[bombe, le, capitaine, barril, ancien, command...</td>\n",
       "      <td>NaN</td>\n",
       "      <td>neutre</td>\n",
       "      <td>0</td>\n",
       "      <td>bombe,capitaine,barril,ancien,commander,gign,«...</td>\n",
       "    </tr>\n",
       "    <tr>\n",
       "      <th>4</th>\n",
       "      <td>4</td>\n",
       "      <td>Sun Mar 18 14:32:39 +0000 2018</td>\n",
       "      <td>[dans, la, même, semaine, macron, nomme, le, t...</td>\n",
       "      <td>Macron, Bellatar, ConseilDesVilles</td>\n",
       "      <td>positif</td>\n",
       "      <td>1.00</td>\n",
       "      <td>semaine,macron,nommer,très,ambigu,islamisme,be...</td>\n",
       "    </tr>\n",
       "  </tbody>\n",
       "</table>\n",
       "</div>"
      ],
      "text/plain": [
       "  num                            date  \\\n",
       "0   0  Sun Mar 18 13:45:13 +0000 2018   \n",
       "1   1  Sun Mar 18 15:47:19 +0000 2018   \n",
       "2   2  Sun Mar 18 11:48:32 +0000 2018   \n",
       "3   3  Sun Mar 18 15:41:24 +0000 2018   \n",
       "4   4  Sun Mar 18 14:32:39 +0000 2018   \n",
       "\n",
       "                                                text  \\\n",
       "0  [au, lieu, d'expulser, des, diplomates, russes...   \n",
       "1  [selon, lex, ambassadeur, anglais, en, ouzbéki...   \n",
       "2  [philipj37, eugeniebastie, tellement, vrai, s'...   \n",
       "3  [bombe, le, capitaine, barril, ancien, command...   \n",
       "4  [dans, la, même, semaine, macron, nomme, le, t...   \n",
       "\n",
       "                             hashtags sentiment  taux  \\\n",
       "0                                 NaN   positif  0.83   \n",
       "1                                 NaN   positif  1.00   \n",
       "2                                 NaN   positif  1.00   \n",
       "3                                 NaN    neutre     0   \n",
       "4  Macron, Bellatar, ConseilDesVilles   positif  1.00   \n",
       "\n",
       "                                               words  \n",
       "0  lieu,expulser,diplomate,russe,plus,concret,plu...  \n",
       "1  selon,lex,ambassadeur,anglais,ouzbékistan,``,n...  \n",
       "2  philipj37,eugeniebastie,tellement,vrai,si,occu...  \n",
       "3  bombe,capitaine,barril,ancien,commander,gign,«...  \n",
       "4  semaine,macron,nommer,très,ambigu,islamisme,be...  "
      ]
     },
     "execution_count": 38,
     "metadata": {},
     "output_type": "execute_result"
    }
   ],
   "source": [
    "tweets.head()"
   ]
  },
  {
   "cell_type": "code",
   "execution_count": 39,
   "metadata": {},
   "outputs": [
    {
     "data": {
      "text/html": [
       "<div>\n",
       "<style scoped>\n",
       "    .dataframe tbody tr th:only-of-type {\n",
       "        vertical-align: middle;\n",
       "    }\n",
       "\n",
       "    .dataframe tbody tr th {\n",
       "        vertical-align: top;\n",
       "    }\n",
       "\n",
       "    .dataframe thead th {\n",
       "        text-align: right;\n",
       "    }\n",
       "</style>\n",
       "<table border=\"1\" class=\"dataframe\">\n",
       "  <thead>\n",
       "    <tr style=\"text-align: right;\">\n",
       "      <th></th>\n",
       "      <th>num</th>\n",
       "      <th>date</th>\n",
       "      <th>text</th>\n",
       "      <th>hashtags</th>\n",
       "      <th>sentiment</th>\n",
       "      <th>taux</th>\n",
       "      <th>words</th>\n",
       "    </tr>\n",
       "  </thead>\n",
       "  <tbody>\n",
       "    <tr>\n",
       "      <th>0</th>\n",
       "      <td>0</td>\n",
       "      <td>Sun Mar 18 13:45:13 +0000 2018</td>\n",
       "      <td>Au lieu d'expulser des diplomates Russes il eu...</td>\n",
       "      <td>NaN</td>\n",
       "      <td>positif</td>\n",
       "      <td>0.83</td>\n",
       "      <td>lieu,expulser,diplomate,russe,plus,concret,plu...</td>\n",
       "    </tr>\n",
       "    <tr>\n",
       "      <th>1</th>\n",
       "      <td>1</td>\n",
       "      <td>Sun Mar 18 15:47:19 +0000 2018</td>\n",
       "      <td>Selon l’ex Ambassadeur anglais en Ouzbékistan,...</td>\n",
       "      <td>NaN</td>\n",
       "      <td>positif</td>\n",
       "      <td>1.00</td>\n",
       "      <td>selon,lex,ambassadeur,anglais,ouzbékistan,``,n...</td>\n",
       "    </tr>\n",
       "    <tr>\n",
       "      <th>2</th>\n",
       "      <td>2</td>\n",
       "      <td>Sun Mar 18 11:48:32 +0000 2018</td>\n",
       "      <td>@PhilipJ37 @EugenieBastie Tellement vrai.\\r\\nS...</td>\n",
       "      <td>NaN</td>\n",
       "      <td>positif</td>\n",
       "      <td>1.00</td>\n",
       "      <td>philipj37,eugeniebastie,tellement,vrai,si,occu...</td>\n",
       "    </tr>\n",
       "    <tr>\n",
       "      <th>3</th>\n",
       "      <td>3</td>\n",
       "      <td>Sun Mar 18 15:41:24 +0000 2018</td>\n",
       "      <td>BOMBE: Le capitaine Barril, ancien commandant ...</td>\n",
       "      <td>NaN</td>\n",
       "      <td>neutre</td>\n",
       "      <td>0</td>\n",
       "      <td>bombe,capitaine,barril,ancien,commander,gign,«...</td>\n",
       "    </tr>\n",
       "    <tr>\n",
       "      <th>4</th>\n",
       "      <td>4</td>\n",
       "      <td>Sun Mar 18 14:32:39 +0000 2018</td>\n",
       "      <td>Dans la même semaine #Macron nomme le très amb...</td>\n",
       "      <td>Macron, Bellatar, ConseilDesVilles</td>\n",
       "      <td>positif</td>\n",
       "      <td>1.00</td>\n",
       "      <td>semaine,macron,nommer,très,ambigu,islamisme,be...</td>\n",
       "    </tr>\n",
       "  </tbody>\n",
       "</table>\n",
       "</div>"
      ],
      "text/plain": [
       "  num                            date  \\\n",
       "0   0  Sun Mar 18 13:45:13 +0000 2018   \n",
       "1   1  Sun Mar 18 15:47:19 +0000 2018   \n",
       "2   2  Sun Mar 18 11:48:32 +0000 2018   \n",
       "3   3  Sun Mar 18 15:41:24 +0000 2018   \n",
       "4   4  Sun Mar 18 14:32:39 +0000 2018   \n",
       "\n",
       "                                                text  \\\n",
       "0  Au lieu d'expulser des diplomates Russes il eu...   \n",
       "1  Selon l’ex Ambassadeur anglais en Ouzbékistan,...   \n",
       "2  @PhilipJ37 @EugenieBastie Tellement vrai.\\r\\nS...   \n",
       "3  BOMBE: Le capitaine Barril, ancien commandant ...   \n",
       "4  Dans la même semaine #Macron nomme le très amb...   \n",
       "\n",
       "                             hashtags sentiment  taux  \\\n",
       "0                                 NaN   positif  0.83   \n",
       "1                                 NaN   positif  1.00   \n",
       "2                                 NaN   positif  1.00   \n",
       "3                                 NaN    neutre     0   \n",
       "4  Macron, Bellatar, ConseilDesVilles   positif  1.00   \n",
       "\n",
       "                                               words  \n",
       "0  lieu,expulser,diplomate,russe,plus,concret,plu...  \n",
       "1  selon,lex,ambassadeur,anglais,ouzbékistan,``,n...  \n",
       "2  philipj37,eugeniebastie,tellement,vrai,si,occu...  \n",
       "3  bombe,capitaine,barril,ancien,commander,gign,«...  \n",
       "4  semaine,macron,nommer,très,ambigu,islamisme,be...  "
      ]
     },
     "execution_count": 39,
     "metadata": {},
     "output_type": "execute_result"
    }
   ],
   "source": [
    "#Recuperer la colonne text du df de depart\n",
    "tweets['text'] = tw.text\n",
    "tweets.head()"
   ]
  },
  {
   "cell_type": "code",
   "execution_count": 40,
   "metadata": {},
   "outputs": [
    {
     "data": {
      "text/html": [
       "<div>\n",
       "<style scoped>\n",
       "    .dataframe tbody tr th:only-of-type {\n",
       "        vertical-align: middle;\n",
       "    }\n",
       "\n",
       "    .dataframe tbody tr th {\n",
       "        vertical-align: top;\n",
       "    }\n",
       "\n",
       "    .dataframe thead th {\n",
       "        text-align: right;\n",
       "    }\n",
       "</style>\n",
       "<table border=\"1\" class=\"dataframe\">\n",
       "  <thead>\n",
       "    <tr style=\"text-align: right;\">\n",
       "      <th></th>\n",
       "      <th>num</th>\n",
       "      <th>date</th>\n",
       "      <th>text</th>\n",
       "      <th>hashtags</th>\n",
       "      <th>sentiment</th>\n",
       "      <th>taux</th>\n",
       "      <th>words</th>\n",
       "    </tr>\n",
       "  </thead>\n",
       "  <tbody>\n",
       "    <tr>\n",
       "      <th>0</th>\n",
       "      <td>0</td>\n",
       "      <td>Sun Mar 18 13:45:13 +0000 2018</td>\n",
       "      <td>Au lieu d'expulser des diplomates Russes il eu...</td>\n",
       "      <td>NO HASHTAG</td>\n",
       "      <td>positif</td>\n",
       "      <td>0.83</td>\n",
       "      <td>lieu,expulser,diplomate,russe,plus,concret,plu...</td>\n",
       "    </tr>\n",
       "    <tr>\n",
       "      <th>1</th>\n",
       "      <td>1</td>\n",
       "      <td>Sun Mar 18 15:47:19 +0000 2018</td>\n",
       "      <td>Selon l’ex Ambassadeur anglais en Ouzbékistan,...</td>\n",
       "      <td>NO HASHTAG</td>\n",
       "      <td>positif</td>\n",
       "      <td>1.00</td>\n",
       "      <td>selon,lex,ambassadeur,anglais,ouzbékistan,``,n...</td>\n",
       "    </tr>\n",
       "    <tr>\n",
       "      <th>2</th>\n",
       "      <td>2</td>\n",
       "      <td>Sun Mar 18 11:48:32 +0000 2018</td>\n",
       "      <td>@PhilipJ37 @EugenieBastie Tellement vrai.\\r\\nS...</td>\n",
       "      <td>NO HASHTAG</td>\n",
       "      <td>positif</td>\n",
       "      <td>1.00</td>\n",
       "      <td>philipj37,eugeniebastie,tellement,vrai,si,occu...</td>\n",
       "    </tr>\n",
       "    <tr>\n",
       "      <th>3</th>\n",
       "      <td>3</td>\n",
       "      <td>Sun Mar 18 15:41:24 +0000 2018</td>\n",
       "      <td>BOMBE: Le capitaine Barril, ancien commandant ...</td>\n",
       "      <td>NO HASHTAG</td>\n",
       "      <td>neutre</td>\n",
       "      <td>0</td>\n",
       "      <td>bombe,capitaine,barril,ancien,commander,gign,«...</td>\n",
       "    </tr>\n",
       "    <tr>\n",
       "      <th>4</th>\n",
       "      <td>4</td>\n",
       "      <td>Sun Mar 18 14:32:39 +0000 2018</td>\n",
       "      <td>Dans la même semaine #Macron nomme le très amb...</td>\n",
       "      <td>Macron, Bellatar, ConseilDesVilles</td>\n",
       "      <td>positif</td>\n",
       "      <td>1.00</td>\n",
       "      <td>semaine,macron,nommer,très,ambigu,islamisme,be...</td>\n",
       "    </tr>\n",
       "  </tbody>\n",
       "</table>\n",
       "</div>"
      ],
      "text/plain": [
       "  num                            date  \\\n",
       "0   0  Sun Mar 18 13:45:13 +0000 2018   \n",
       "1   1  Sun Mar 18 15:47:19 +0000 2018   \n",
       "2   2  Sun Mar 18 11:48:32 +0000 2018   \n",
       "3   3  Sun Mar 18 15:41:24 +0000 2018   \n",
       "4   4  Sun Mar 18 14:32:39 +0000 2018   \n",
       "\n",
       "                                                text  \\\n",
       "0  Au lieu d'expulser des diplomates Russes il eu...   \n",
       "1  Selon l’ex Ambassadeur anglais en Ouzbékistan,...   \n",
       "2  @PhilipJ37 @EugenieBastie Tellement vrai.\\r\\nS...   \n",
       "3  BOMBE: Le capitaine Barril, ancien commandant ...   \n",
       "4  Dans la même semaine #Macron nomme le très amb...   \n",
       "\n",
       "                             hashtags sentiment  taux  \\\n",
       "0                          NO HASHTAG   positif  0.83   \n",
       "1                          NO HASHTAG   positif  1.00   \n",
       "2                          NO HASHTAG   positif  1.00   \n",
       "3                          NO HASHTAG    neutre     0   \n",
       "4  Macron, Bellatar, ConseilDesVilles   positif  1.00   \n",
       "\n",
       "                                               words  \n",
       "0  lieu,expulser,diplomate,russe,plus,concret,plu...  \n",
       "1  selon,lex,ambassadeur,anglais,ouzbékistan,``,n...  \n",
       "2  philipj37,eugeniebastie,tellement,vrai,si,occu...  \n",
       "3  bombe,capitaine,barril,ancien,commander,gign,«...  \n",
       "4  semaine,macron,nommer,très,ambigu,islamisme,be...  "
      ]
     },
     "execution_count": 40,
     "metadata": {},
     "output_type": "execute_result"
    }
   ],
   "source": [
    "#Remplace les nan par NO HASHTAG\n",
    "tweets.hashtags.replace(np.nan, 'NO HASHTAG' ,inplace=True)\n",
    "tweets.head()"
   ]
  },
  {
   "cell_type": "code",
   "execution_count": 41,
   "metadata": {},
   "outputs": [],
   "source": [
    "# Export du df en CSV\n",
    "tweets.to_csv(\"tweetsAnalyse.csv\", index=False, encoding='utf-8')"
   ]
  },
  {
   "cell_type": "markdown",
   "metadata": {},
   "source": [
    "## Definition de la fonction de determination de polarite a partir d'un texte"
   ]
  },
  {
   "cell_type": "code",
   "execution_count": 42,
   "metadata": {},
   "outputs": [],
   "source": [
    "# The function polarity_feeling takes a string as entry and returns the text's feeling polarity: 'neutre', 'positif' or 'negatif'\n",
    "# and the rate in a list. \n",
    "def polarity_feeling(text: str):\n",
    "    # text to lower case \n",
    "    # delete punctuation\n",
    "    text =re.sub('[!@#$:’).\";,?&%=>(<''©-]', '', str(text).lower())\n",
    "    # delete doubble whitespace\n",
    "    text = re.sub('  ', ' ', text)\n",
    "    # delete @, > and 'http'\n",
    "    text = \" \".join([word for word in text.split()\n",
    "                                if 'http' not in word and '@' not in word and '<' not in word])\n",
    "    # Tokenisation\n",
    "    text = word_tokenize(text)\n",
    "    # Lemmatization\n",
    "    text = lemma(text)\n",
    "    # delete stopwords\n",
    "    text = filtration(text)\n",
    "    # define the feeling polarity \n",
    "    return calculpolarite(text)\n",
    "    \n",
    "    "
   ]
  },
  {
   "cell_type": "code",
   "execution_count": 43,
   "metadata": {},
   "outputs": [
    {
     "data": {
      "text/plain": [
       "['neutre', 0]"
      ]
     },
     "execution_count": 43,
     "metadata": {},
     "output_type": "execute_result"
    }
   ],
   "source": [
    "polarity_feeling('Bonjour comment vas tu petit chat?')"
   ]
  },
  {
   "cell_type": "code",
   "execution_count": 44,
   "metadata": {},
   "outputs": [
    {
     "data": {
      "text/html": [
       "<div>\n",
       "<style scoped>\n",
       "    .dataframe tbody tr th:only-of-type {\n",
       "        vertical-align: middle;\n",
       "    }\n",
       "\n",
       "    .dataframe tbody tr th {\n",
       "        vertical-align: top;\n",
       "    }\n",
       "\n",
       "    .dataframe thead th {\n",
       "        text-align: right;\n",
       "    }\n",
       "</style>\n",
       "<table border=\"1\" class=\"dataframe\">\n",
       "  <thead>\n",
       "    <tr style=\"text-align: right;\">\n",
       "      <th></th>\n",
       "      <th>num</th>\n",
       "      <th>date</th>\n",
       "      <th>text</th>\n",
       "      <th>hashtags</th>\n",
       "    </tr>\n",
       "  </thead>\n",
       "  <tbody>\n",
       "    <tr>\n",
       "      <th>0</th>\n",
       "      <td>0</td>\n",
       "      <td>Sun Mar 18 13:45:13 +0000 2018</td>\n",
       "      <td>Au lieu d'expulser des diplomates Russes il eu...</td>\n",
       "      <td>NaN</td>\n",
       "    </tr>\n",
       "    <tr>\n",
       "      <th>1</th>\n",
       "      <td>1</td>\n",
       "      <td>Sun Mar 18 15:47:19 +0000 2018</td>\n",
       "      <td>Selon l’ex Ambassadeur anglais en Ouzbékistan,...</td>\n",
       "      <td>NaN</td>\n",
       "    </tr>\n",
       "    <tr>\n",
       "      <th>2</th>\n",
       "      <td>2</td>\n",
       "      <td>Sun Mar 18 11:48:32 +0000 2018</td>\n",
       "      <td>@PhilipJ37 @EugenieBastie Tellement vrai.\\r\\nS...</td>\n",
       "      <td>NaN</td>\n",
       "    </tr>\n",
       "    <tr>\n",
       "      <th>3</th>\n",
       "      <td>3</td>\n",
       "      <td>Sun Mar 18 15:41:24 +0000 2018</td>\n",
       "      <td>BOMBE: Le capitaine Barril, ancien commandant ...</td>\n",
       "      <td>NaN</td>\n",
       "    </tr>\n",
       "    <tr>\n",
       "      <th>4</th>\n",
       "      <td>4</td>\n",
       "      <td>Sun Mar 18 14:32:39 +0000 2018</td>\n",
       "      <td>Dans la même semaine #Macron nomme le très amb...</td>\n",
       "      <td>['Macron', 'Bellatar', 'ConseilDesVilles']</td>\n",
       "    </tr>\n",
       "  </tbody>\n",
       "</table>\n",
       "</div>"
      ],
      "text/plain": [
       "  num                            date  \\\n",
       "0   0  Sun Mar 18 13:45:13 +0000 2018   \n",
       "1   1  Sun Mar 18 15:47:19 +0000 2018   \n",
       "2   2  Sun Mar 18 11:48:32 +0000 2018   \n",
       "3   3  Sun Mar 18 15:41:24 +0000 2018   \n",
       "4   4  Sun Mar 18 14:32:39 +0000 2018   \n",
       "\n",
       "                                                text  \\\n",
       "0  Au lieu d'expulser des diplomates Russes il eu...   \n",
       "1  Selon l’ex Ambassadeur anglais en Ouzbékistan,...   \n",
       "2  @PhilipJ37 @EugenieBastie Tellement vrai.\\r\\nS...   \n",
       "3  BOMBE: Le capitaine Barril, ancien commandant ...   \n",
       "4  Dans la même semaine #Macron nomme le très amb...   \n",
       "\n",
       "                                     hashtags  \n",
       "0                                         NaN  \n",
       "1                                         NaN  \n",
       "2                                         NaN  \n",
       "3                                         NaN  \n",
       "4  ['Macron', 'Bellatar', 'ConseilDesVilles']  "
      ]
     },
     "execution_count": 44,
     "metadata": {},
     "output_type": "execute_result"
    }
   ],
   "source": [
    "tw.head()"
   ]
  },
  {
   "cell_type": "code",
   "execution_count": 45,
   "metadata": {},
   "outputs": [],
   "source": [
    "_pol = tw[:5].text.apply(polarity_feeling)"
   ]
  },
  {
   "cell_type": "code",
   "execution_count": 46,
   "metadata": {},
   "outputs": [
    {
     "data": {
      "text/plain": [
       "0    [positif, 0.83]\n",
       "1    [positif, 1.00]\n",
       "2    [positif, 1.00]\n",
       "3        [neutre, 0]\n",
       "4    [positif, 1.00]\n",
       "Name: text, dtype: object"
      ]
     },
     "execution_count": 46,
     "metadata": {},
     "output_type": "execute_result"
    }
   ],
   "source": [
    "_pol"
   ]
  },
  {
   "cell_type": "code",
   "execution_count": null,
   "metadata": {},
   "outputs": [],
   "source": []
  }
 ],
 "metadata": {
  "kernelspec": {
   "display_name": "Python 3",
   "language": "python",
   "name": "python3"
  },
  "language_info": {
   "codemirror_mode": {
    "name": "ipython",
    "version": 3
   },
   "file_extension": ".py",
   "mimetype": "text/x-python",
   "name": "python",
   "nbconvert_exporter": "python",
   "pygments_lexer": "ipython3",
   "version": "3.7.0"
  }
 },
 "nbformat": 4,
 "nbformat_minor": 2
}
